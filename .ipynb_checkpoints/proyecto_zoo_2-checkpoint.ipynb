{
 "cells": [
  {
   "cell_type": "code",
   "execution_count": 61,
   "id": "a2ceb335",
   "metadata": {},
   "outputs": [],
   "source": [
    "import numpy as np\n",
    "import pandas as pd\n",
    "type = pd.read_csv('C:/Users/Miguel/Downloads/8 semestre/DATA SCIENCE/2 PARCIAL/archive/class.csv')\n",
    "dataset = pd.read_csv('C:/Users/Miguel/Downloads/8 semestre/DATA SCIENCE/2 PARCIAL/archive/zoo.csv')"
   ]
  },
  {
   "cell_type": "code",
   "execution_count": 62,
   "id": "b6ed4b76",
   "metadata": {},
   "outputs": [
    {
     "data": {
      "text/html": [
       "<div>\n",
       "<style scoped>\n",
       "    .dataframe tbody tr th:only-of-type {\n",
       "        vertical-align: middle;\n",
       "    }\n",
       "\n",
       "    .dataframe tbody tr th {\n",
       "        vertical-align: top;\n",
       "    }\n",
       "\n",
       "    .dataframe thead th {\n",
       "        text-align: right;\n",
       "    }\n",
       "</style>\n",
       "<table border=\"1\" class=\"dataframe\">\n",
       "  <thead>\n",
       "    <tr style=\"text-align: right;\">\n",
       "      <th></th>\n",
       "      <th>animal_name</th>\n",
       "      <th>hair</th>\n",
       "      <th>feathers</th>\n",
       "      <th>eggs</th>\n",
       "      <th>milk</th>\n",
       "      <th>airborne</th>\n",
       "      <th>aquatic</th>\n",
       "      <th>predator</th>\n",
       "      <th>toothed</th>\n",
       "      <th>backbone</th>\n",
       "      <th>breathes</th>\n",
       "      <th>venomous</th>\n",
       "      <th>fins</th>\n",
       "      <th>legs</th>\n",
       "      <th>tail</th>\n",
       "      <th>domestic</th>\n",
       "      <th>catsize</th>\n",
       "      <th>class_type</th>\n",
       "    </tr>\n",
       "  </thead>\n",
       "  <tbody>\n",
       "    <tr>\n",
       "      <th>0</th>\n",
       "      <td>aardvark</td>\n",
       "      <td>1</td>\n",
       "      <td>0</td>\n",
       "      <td>0</td>\n",
       "      <td>1</td>\n",
       "      <td>0</td>\n",
       "      <td>0</td>\n",
       "      <td>1</td>\n",
       "      <td>1</td>\n",
       "      <td>1</td>\n",
       "      <td>1</td>\n",
       "      <td>0</td>\n",
       "      <td>0</td>\n",
       "      <td>4</td>\n",
       "      <td>0</td>\n",
       "      <td>0</td>\n",
       "      <td>1</td>\n",
       "      <td>1</td>\n",
       "    </tr>\n",
       "    <tr>\n",
       "      <th>1</th>\n",
       "      <td>antelope</td>\n",
       "      <td>1</td>\n",
       "      <td>0</td>\n",
       "      <td>0</td>\n",
       "      <td>1</td>\n",
       "      <td>0</td>\n",
       "      <td>0</td>\n",
       "      <td>0</td>\n",
       "      <td>1</td>\n",
       "      <td>1</td>\n",
       "      <td>1</td>\n",
       "      <td>0</td>\n",
       "      <td>0</td>\n",
       "      <td>4</td>\n",
       "      <td>1</td>\n",
       "      <td>0</td>\n",
       "      <td>1</td>\n",
       "      <td>1</td>\n",
       "    </tr>\n",
       "    <tr>\n",
       "      <th>2</th>\n",
       "      <td>bass</td>\n",
       "      <td>0</td>\n",
       "      <td>0</td>\n",
       "      <td>1</td>\n",
       "      <td>0</td>\n",
       "      <td>0</td>\n",
       "      <td>1</td>\n",
       "      <td>1</td>\n",
       "      <td>1</td>\n",
       "      <td>1</td>\n",
       "      <td>0</td>\n",
       "      <td>0</td>\n",
       "      <td>1</td>\n",
       "      <td>0</td>\n",
       "      <td>1</td>\n",
       "      <td>0</td>\n",
       "      <td>0</td>\n",
       "      <td>4</td>\n",
       "    </tr>\n",
       "    <tr>\n",
       "      <th>3</th>\n",
       "      <td>bear</td>\n",
       "      <td>1</td>\n",
       "      <td>0</td>\n",
       "      <td>0</td>\n",
       "      <td>1</td>\n",
       "      <td>0</td>\n",
       "      <td>0</td>\n",
       "      <td>1</td>\n",
       "      <td>1</td>\n",
       "      <td>1</td>\n",
       "      <td>1</td>\n",
       "      <td>0</td>\n",
       "      <td>0</td>\n",
       "      <td>4</td>\n",
       "      <td>0</td>\n",
       "      <td>0</td>\n",
       "      <td>1</td>\n",
       "      <td>1</td>\n",
       "    </tr>\n",
       "    <tr>\n",
       "      <th>4</th>\n",
       "      <td>boar</td>\n",
       "      <td>1</td>\n",
       "      <td>0</td>\n",
       "      <td>0</td>\n",
       "      <td>1</td>\n",
       "      <td>0</td>\n",
       "      <td>0</td>\n",
       "      <td>1</td>\n",
       "      <td>1</td>\n",
       "      <td>1</td>\n",
       "      <td>1</td>\n",
       "      <td>0</td>\n",
       "      <td>0</td>\n",
       "      <td>4</td>\n",
       "      <td>1</td>\n",
       "      <td>0</td>\n",
       "      <td>1</td>\n",
       "      <td>1</td>\n",
       "    </tr>\n",
       "  </tbody>\n",
       "</table>\n",
       "</div>"
      ],
      "text/plain": [
       "  animal_name  hair  feathers  eggs  milk  airborne  aquatic  predator  \\\n",
       "0    aardvark     1         0     0     1         0        0         1   \n",
       "1    antelope     1         0     0     1         0        0         0   \n",
       "2        bass     0         0     1     0         0        1         1   \n",
       "3        bear     1         0     0     1         0        0         1   \n",
       "4        boar     1         0     0     1         0        0         1   \n",
       "\n",
       "   toothed  backbone  breathes  venomous  fins  legs  tail  domestic  catsize  \\\n",
       "0        1         1         1         0     0     4     0         0        1   \n",
       "1        1         1         1         0     0     4     1         0        1   \n",
       "2        1         1         0         0     1     0     1         0        0   \n",
       "3        1         1         1         0     0     4     0         0        1   \n",
       "4        1         1         1         0     0     4     1         0        1   \n",
       "\n",
       "   class_type  \n",
       "0           1  \n",
       "1           1  \n",
       "2           4  \n",
       "3           1  \n",
       "4           1  "
      ]
     },
     "execution_count": 62,
     "metadata": {},
     "output_type": "execute_result"
    }
   ],
   "source": [
    "# Imprimimos las primeras\n",
    "dataset.head()"
   ]
  },
  {
   "cell_type": "code",
   "execution_count": 63,
   "id": "efda133b",
   "metadata": {},
   "outputs": [
    {
     "data": {
      "text/html": [
       "<div>\n",
       "<style scoped>\n",
       "    .dataframe tbody tr th:only-of-type {\n",
       "        vertical-align: middle;\n",
       "    }\n",
       "\n",
       "    .dataframe tbody tr th {\n",
       "        vertical-align: top;\n",
       "    }\n",
       "\n",
       "    .dataframe thead th {\n",
       "        text-align: right;\n",
       "    }\n",
       "</style>\n",
       "<table border=\"1\" class=\"dataframe\">\n",
       "  <thead>\n",
       "    <tr style=\"text-align: right;\">\n",
       "      <th></th>\n",
       "      <th>hair</th>\n",
       "      <th>feathers</th>\n",
       "      <th>eggs</th>\n",
       "      <th>milk</th>\n",
       "      <th>airborne</th>\n",
       "      <th>aquatic</th>\n",
       "      <th>predator</th>\n",
       "      <th>toothed</th>\n",
       "      <th>backbone</th>\n",
       "      <th>breathes</th>\n",
       "      <th>venomous</th>\n",
       "      <th>fins</th>\n",
       "      <th>legs</th>\n",
       "      <th>tail</th>\n",
       "      <th>domestic</th>\n",
       "      <th>catsize</th>\n",
       "      <th>class_type</th>\n",
       "    </tr>\n",
       "  </thead>\n",
       "  <tbody>\n",
       "    <tr>\n",
       "      <th>count</th>\n",
       "      <td>101.000000</td>\n",
       "      <td>101.000000</td>\n",
       "      <td>101.000000</td>\n",
       "      <td>101.000000</td>\n",
       "      <td>101.000000</td>\n",
       "      <td>101.000000</td>\n",
       "      <td>101.000000</td>\n",
       "      <td>101.000000</td>\n",
       "      <td>101.000000</td>\n",
       "      <td>101.000000</td>\n",
       "      <td>101.000000</td>\n",
       "      <td>101.000000</td>\n",
       "      <td>101.000000</td>\n",
       "      <td>101.000000</td>\n",
       "      <td>101.000000</td>\n",
       "      <td>101.000000</td>\n",
       "      <td>101.000000</td>\n",
       "    </tr>\n",
       "    <tr>\n",
       "      <th>mean</th>\n",
       "      <td>0.425743</td>\n",
       "      <td>0.198020</td>\n",
       "      <td>0.584158</td>\n",
       "      <td>0.405941</td>\n",
       "      <td>0.237624</td>\n",
       "      <td>0.356436</td>\n",
       "      <td>0.554455</td>\n",
       "      <td>0.603960</td>\n",
       "      <td>0.821782</td>\n",
       "      <td>0.792079</td>\n",
       "      <td>0.079208</td>\n",
       "      <td>0.168317</td>\n",
       "      <td>2.841584</td>\n",
       "      <td>0.742574</td>\n",
       "      <td>0.128713</td>\n",
       "      <td>0.435644</td>\n",
       "      <td>2.831683</td>\n",
       "    </tr>\n",
       "    <tr>\n",
       "      <th>std</th>\n",
       "      <td>0.496921</td>\n",
       "      <td>0.400495</td>\n",
       "      <td>0.495325</td>\n",
       "      <td>0.493522</td>\n",
       "      <td>0.427750</td>\n",
       "      <td>0.481335</td>\n",
       "      <td>0.499505</td>\n",
       "      <td>0.491512</td>\n",
       "      <td>0.384605</td>\n",
       "      <td>0.407844</td>\n",
       "      <td>0.271410</td>\n",
       "      <td>0.376013</td>\n",
       "      <td>2.033385</td>\n",
       "      <td>0.439397</td>\n",
       "      <td>0.336552</td>\n",
       "      <td>0.498314</td>\n",
       "      <td>2.102709</td>\n",
       "    </tr>\n",
       "    <tr>\n",
       "      <th>min</th>\n",
       "      <td>0.000000</td>\n",
       "      <td>0.000000</td>\n",
       "      <td>0.000000</td>\n",
       "      <td>0.000000</td>\n",
       "      <td>0.000000</td>\n",
       "      <td>0.000000</td>\n",
       "      <td>0.000000</td>\n",
       "      <td>0.000000</td>\n",
       "      <td>0.000000</td>\n",
       "      <td>0.000000</td>\n",
       "      <td>0.000000</td>\n",
       "      <td>0.000000</td>\n",
       "      <td>0.000000</td>\n",
       "      <td>0.000000</td>\n",
       "      <td>0.000000</td>\n",
       "      <td>0.000000</td>\n",
       "      <td>1.000000</td>\n",
       "    </tr>\n",
       "    <tr>\n",
       "      <th>25%</th>\n",
       "      <td>0.000000</td>\n",
       "      <td>0.000000</td>\n",
       "      <td>0.000000</td>\n",
       "      <td>0.000000</td>\n",
       "      <td>0.000000</td>\n",
       "      <td>0.000000</td>\n",
       "      <td>0.000000</td>\n",
       "      <td>0.000000</td>\n",
       "      <td>1.000000</td>\n",
       "      <td>1.000000</td>\n",
       "      <td>0.000000</td>\n",
       "      <td>0.000000</td>\n",
       "      <td>2.000000</td>\n",
       "      <td>0.000000</td>\n",
       "      <td>0.000000</td>\n",
       "      <td>0.000000</td>\n",
       "      <td>1.000000</td>\n",
       "    </tr>\n",
       "    <tr>\n",
       "      <th>50%</th>\n",
       "      <td>0.000000</td>\n",
       "      <td>0.000000</td>\n",
       "      <td>1.000000</td>\n",
       "      <td>0.000000</td>\n",
       "      <td>0.000000</td>\n",
       "      <td>0.000000</td>\n",
       "      <td>1.000000</td>\n",
       "      <td>1.000000</td>\n",
       "      <td>1.000000</td>\n",
       "      <td>1.000000</td>\n",
       "      <td>0.000000</td>\n",
       "      <td>0.000000</td>\n",
       "      <td>4.000000</td>\n",
       "      <td>1.000000</td>\n",
       "      <td>0.000000</td>\n",
       "      <td>0.000000</td>\n",
       "      <td>2.000000</td>\n",
       "    </tr>\n",
       "    <tr>\n",
       "      <th>75%</th>\n",
       "      <td>1.000000</td>\n",
       "      <td>0.000000</td>\n",
       "      <td>1.000000</td>\n",
       "      <td>1.000000</td>\n",
       "      <td>0.000000</td>\n",
       "      <td>1.000000</td>\n",
       "      <td>1.000000</td>\n",
       "      <td>1.000000</td>\n",
       "      <td>1.000000</td>\n",
       "      <td>1.000000</td>\n",
       "      <td>0.000000</td>\n",
       "      <td>0.000000</td>\n",
       "      <td>4.000000</td>\n",
       "      <td>1.000000</td>\n",
       "      <td>0.000000</td>\n",
       "      <td>1.000000</td>\n",
       "      <td>4.000000</td>\n",
       "    </tr>\n",
       "    <tr>\n",
       "      <th>max</th>\n",
       "      <td>1.000000</td>\n",
       "      <td>1.000000</td>\n",
       "      <td>1.000000</td>\n",
       "      <td>1.000000</td>\n",
       "      <td>1.000000</td>\n",
       "      <td>1.000000</td>\n",
       "      <td>1.000000</td>\n",
       "      <td>1.000000</td>\n",
       "      <td>1.000000</td>\n",
       "      <td>1.000000</td>\n",
       "      <td>1.000000</td>\n",
       "      <td>1.000000</td>\n",
       "      <td>8.000000</td>\n",
       "      <td>1.000000</td>\n",
       "      <td>1.000000</td>\n",
       "      <td>1.000000</td>\n",
       "      <td>7.000000</td>\n",
       "    </tr>\n",
       "  </tbody>\n",
       "</table>\n",
       "</div>"
      ],
      "text/plain": [
       "             hair    feathers        eggs        milk    airborne     aquatic  \\\n",
       "count  101.000000  101.000000  101.000000  101.000000  101.000000  101.000000   \n",
       "mean     0.425743    0.198020    0.584158    0.405941    0.237624    0.356436   \n",
       "std      0.496921    0.400495    0.495325    0.493522    0.427750    0.481335   \n",
       "min      0.000000    0.000000    0.000000    0.000000    0.000000    0.000000   \n",
       "25%      0.000000    0.000000    0.000000    0.000000    0.000000    0.000000   \n",
       "50%      0.000000    0.000000    1.000000    0.000000    0.000000    0.000000   \n",
       "75%      1.000000    0.000000    1.000000    1.000000    0.000000    1.000000   \n",
       "max      1.000000    1.000000    1.000000    1.000000    1.000000    1.000000   \n",
       "\n",
       "         predator     toothed    backbone    breathes    venomous        fins  \\\n",
       "count  101.000000  101.000000  101.000000  101.000000  101.000000  101.000000   \n",
       "mean     0.554455    0.603960    0.821782    0.792079    0.079208    0.168317   \n",
       "std      0.499505    0.491512    0.384605    0.407844    0.271410    0.376013   \n",
       "min      0.000000    0.000000    0.000000    0.000000    0.000000    0.000000   \n",
       "25%      0.000000    0.000000    1.000000    1.000000    0.000000    0.000000   \n",
       "50%      1.000000    1.000000    1.000000    1.000000    0.000000    0.000000   \n",
       "75%      1.000000    1.000000    1.000000    1.000000    0.000000    0.000000   \n",
       "max      1.000000    1.000000    1.000000    1.000000    1.000000    1.000000   \n",
       "\n",
       "             legs        tail    domestic     catsize  class_type  \n",
       "count  101.000000  101.000000  101.000000  101.000000  101.000000  \n",
       "mean     2.841584    0.742574    0.128713    0.435644    2.831683  \n",
       "std      2.033385    0.439397    0.336552    0.498314    2.102709  \n",
       "min      0.000000    0.000000    0.000000    0.000000    1.000000  \n",
       "25%      2.000000    0.000000    0.000000    0.000000    1.000000  \n",
       "50%      4.000000    1.000000    0.000000    0.000000    2.000000  \n",
       "75%      4.000000    1.000000    0.000000    1.000000    4.000000  \n",
       "max      8.000000    1.000000    1.000000    1.000000    7.000000  "
      ]
     },
     "execution_count": 63,
     "metadata": {},
     "output_type": "execute_result"
    }
   ],
   "source": [
    "# Descripción del dataset\n",
    "dataset.describe()"
   ]
  },
  {
   "cell_type": "code",
   "execution_count": 64,
   "id": "c42efae7",
   "metadata": {},
   "outputs": [
    {
     "name": "stdout",
     "output_type": "stream",
     "text": [
      "<class 'pandas.core.frame.DataFrame'>\n",
      "RangeIndex: 101 entries, 0 to 100\n",
      "Data columns (total 18 columns):\n",
      " #   Column       Non-Null Count  Dtype \n",
      "---  ------       --------------  ----- \n",
      " 0   animal_name  101 non-null    object\n",
      " 1   hair         101 non-null    int64 \n",
      " 2   feathers     101 non-null    int64 \n",
      " 3   eggs         101 non-null    int64 \n",
      " 4   milk         101 non-null    int64 \n",
      " 5   airborne     101 non-null    int64 \n",
      " 6   aquatic      101 non-null    int64 \n",
      " 7   predator     101 non-null    int64 \n",
      " 8   toothed      101 non-null    int64 \n",
      " 9   backbone     101 non-null    int64 \n",
      " 10  breathes     101 non-null    int64 \n",
      " 11  venomous     101 non-null    int64 \n",
      " 12  fins         101 non-null    int64 \n",
      " 13  legs         101 non-null    int64 \n",
      " 14  tail         101 non-null    int64 \n",
      " 15  domestic     101 non-null    int64 \n",
      " 16  catsize      101 non-null    int64 \n",
      " 17  class_type   101 non-null    int64 \n",
      "dtypes: int64(17), object(1)\n",
      "memory usage: 14.3+ KB\n"
     ]
    }
   ],
   "source": [
    "# Información de las columnas del dataset\n",
    "dataset.info()"
   ]
  },
  {
   "cell_type": "code",
   "execution_count": 72,
   "id": "d10b3043",
   "metadata": {},
   "outputs": [
    {
     "data": {
      "image/png": "[encoded data removed]",
      "text/plain": [
       "<Figure size 640x480 with 1 Axes>"
      ]
     },
     "metadata": {},
     "output_type": "display_data"
    }
   ],
   "source": [
    "import matplotlib.pyplot as plt\n",
    "\n",
    "# Vemos que tan balanceado está el dataset con respecto al target\n",
    "dataset_target = dataset['class_type'].value_counts()\n",
    "\n",
    "plt.pie(dataset_target, labels=dataset_target.index, autopct='%1.1f%%')\n",
    "plt.title('Porcentaje de cada Categoría del Target')\n",
    "plt.show()"
   ]
  },
  {
   "cell_type": "code",
   "execution_count": 73,
   "id": "1589736b",
   "metadata": {},
   "outputs": [
    {
     "name": "stdout",
     "output_type": "stream",
     "text": [
      "0      0\n",
      "1      0\n",
      "2      3\n",
      "3      0\n",
      "4      0\n",
      "      ..\n",
      "96     0\n",
      "97     5\n",
      "98     0\n",
      "99     6\n",
      "100    1\n",
      "Name: class_type, Length: 101, dtype: int64\n"
     ]
    }
   ],
   "source": [
    "from sklearn.preprocessing import LabelEncoder\n",
    "\n",
    "# Codificamos las variables categóricas del Target\n",
    "cat_encoder = LabelEncoder()\n",
    "dataset['class_type'] = cat_encoder.fit_transform(dataset['class_type'].values.reshape(-1))\n",
    "\n",
    "# Imprimimos el resultado de la codificación\n",
    "print(dataset['class_type'])"
   ]
  },
  {
   "cell_type": "code",
   "execution_count": 74,
   "id": "0e52b932",
   "metadata": {},
   "outputs": [],
   "source": [
    "from sklearn.model_selection import StratifiedShuffleSplit\n",
    "\n",
    "# Como se encuentra desbalanceado, lo vamos a dividir en \n",
    "# train y test con StratifiedShuffleSplit\n",
    "split = StratifiedShuffleSplit(n_splits=1, test_size=0.2, random_state=42)\n",
    "for train_index, test_index in split.split(dataset, dataset['class_type']):\n",
    "    strat_train_set = dataset.loc[train_index]\n",
    "    strat_test_set = dataset.loc[test_index]"
   ]
  },
  {
   "cell_type": "code",
   "execution_count": 75,
   "id": "12aa69cc",
   "metadata": {},
   "outputs": [
    {
     "name": "stdout",
     "output_type": "stream",
     "text": [
      "(80, 17)\n",
      "(80,)\n",
      "(21, 17)\n",
      "(21,)\n"
     ]
    }
   ],
   "source": [
    "# Dividimos el dataset en X e y\n",
    "X_train = strat_train_set.drop('class_type', axis=1)\n",
    "y_train = strat_train_set['class_type'].copy()\n",
    "X_test = strat_test_set.drop('class_type', axis=1)\n",
    "y_test = strat_test_set['class_type'].copy()\n",
    "\n",
    "print(X_train.shape)\n",
    "print(y_train.shape)\n",
    "print(X_test.shape)\n",
    "print(y_test.shape)"
   ]
  },
  {
   "cell_type": "code",
   "execution_count": 77,
   "id": "762cce0c",
   "metadata": {},
   "outputs": [
    {
     "data": {
      "text/plain": [
       "class_type     1.000000\n",
       "eggs           0.661825\n",
       "aquatic        0.326639\n",
       "venomous       0.321476\n",
       "legs           0.131693\n",
       "fins           0.099430\n",
       "animal_name    0.080012\n",
       "predator       0.061179\n",
       "airborne       0.022677\n",
       "domestic      -0.181043\n",
       "feathers      -0.197520\n",
       "toothed       -0.471527\n",
       "breathes      -0.519308\n",
       "catsize       -0.521030\n",
       "hair          -0.562384\n",
       "tail          -0.631830\n",
       "milk          -0.723683\n",
       "backbone      -0.828845\n",
       "Name: class_type, dtype: float64"
      ]
     },
     "execution_count": 77,
     "metadata": {},
     "output_type": "execute_result"
    }
   ],
   "source": [
    "# Matriz de correlación con respecto al Target\n",
    "corr_matrix = dataset.corr()\n",
    "\n",
    "corr_matrix['class_type'].sort_values(ascending=False)"
   ]
  },
  {
   "cell_type": "code",
   "execution_count": 79,
   "id": "7f576750",
   "metadata": {
    "scrolled": false
   },
   "outputs": [
    {
     "data": {
      "text/plain": [
       "array([[<Axes: xlabel='class_type', ylabel='class_type'>,\n",
       "        <Axes: xlabel='eggs', ylabel='class_type'>,\n",
       "        <Axes: xlabel='aquatic', ylabel='class_type'>,\n",
       "        <Axes: xlabel='venomous', ylabel='class_type'>,\n",
       "        <Axes: xlabel='legs', ylabel='class_type'>,\n",
       "        <Axes: xlabel='fins', ylabel='class_type'>,\n",
       "        <Axes: xlabel='predator', ylabel='class_type'>,\n",
       "        <Axes: xlabel='airborne', ylabel='class_type'>,\n",
       "        <Axes: xlabel='domestic', ylabel='class_type'>,\n",
       "        <Axes: xlabel='feathers', ylabel='class_type'>,\n",
       "        <Axes: xlabel='toothed', ylabel='class_type'>,\n",
       "        <Axes: xlabel='breathes', ylabel='class_type'>,\n",
       "        <Axes: xlabel='catsize', ylabel='class_type'>,\n",
       "        <Axes: xlabel='hair', ylabel='class_type'>,\n",
       "        <Axes: xlabel='tail', ylabel='class_type'>,\n",
       "        <Axes: xlabel='milk', ylabel='class_type'>,\n",
       "        <Axes: xlabel='backbone', ylabel='class_type'>],\n",
       "       [<Axes: xlabel='class_type', ylabel='eggs'>,\n",
       "        <Axes: xlabel='eggs', ylabel='eggs'>,\n",
       "        <Axes: xlabel='aquatic', ylabel='eggs'>,\n",
       "        <Axes: xlabel='venomous', ylabel='eggs'>,\n",
       "        <Axes: xlabel='legs', ylabel='eggs'>,\n",
       "        <Axes: xlabel='fins', ylabel='eggs'>,\n",
       "        <Axes: xlabel='predator', ylabel='eggs'>,\n",
       "        <Axes: xlabel='airborne', ylabel='eggs'>,\n",
       "        <Axes: xlabel='domestic', ylabel='eggs'>,\n",
       "        <Axes: xlabel='feathers', ylabel='eggs'>,\n",
       "        <Axes: xlabel='toothed', ylabel='eggs'>,\n",
       "        <Axes: xlabel='breathes', ylabel='eggs'>,\n",
       "        <Axes: xlabel='catsize', ylabel='eggs'>,\n",
       "        <Axes: xlabel='hair', ylabel='eggs'>,\n",
       "        <Axes: xlabel='tail', ylabel='eggs'>,\n",
       "        <Axes: xlabel='milk', ylabel='eggs'>,\n",
       "        <Axes: xlabel='backbone', ylabel='eggs'>],\n",
       "       [<Axes: xlabel='class_type', ylabel='aquatic'>,\n",
       "        <Axes: xlabel='eggs', ylabel='aquatic'>,\n",
       "        <Axes: xlabel='aquatic', ylabel='aquatic'>,\n",
       "        <Axes: xlabel='venomous', ylabel='aquatic'>,\n",
       "        <Axes: xlabel='legs', ylabel='aquatic'>,\n",
       "        <Axes: xlabel='fins', ylabel='aquatic'>,\n",
       "        <Axes: xlabel='predator', ylabel='aquatic'>,\n",
       "        <Axes: xlabel='airborne', ylabel='aquatic'>,\n",
       "        <Axes: xlabel='domestic', ylabel='aquatic'>,\n",
       "        <Axes: xlabel='feathers', ylabel='aquatic'>,\n",
       "        <Axes: xlabel='toothed', ylabel='aquatic'>,\n",
       "        <Axes: xlabel='breathes', ylabel='aquatic'>,\n",
       "        <Axes: xlabel='catsize', ylabel='aquatic'>,\n",
       "        <Axes: xlabel='hair', ylabel='aquatic'>,\n",
       "        <Axes: xlabel='tail', ylabel='aquatic'>,\n",
       "        <Axes: xlabel='milk', ylabel='aquatic'>,\n",
       "        <Axes: xlabel='backbone', ylabel='aquatic'>],\n",
       "       [<Axes: xlabel='class_type', ylabel='venomous'>,\n",
       "        <Axes: xlabel='eggs', ylabel='venomous'>,\n",
       "        <Axes: xlabel='aquatic', ylabel='venomous'>,\n",
       "        <Axes: xlabel='venomous', ylabel='venomous'>,\n",
       "        <Axes: xlabel='legs', ylabel='venomous'>,\n",
       "        <Axes: xlabel='fins', ylabel='venomous'>,\n",
       "        <Axes: xlabel='predator', ylabel='venomous'>,\n",
       "        <Axes: xlabel='airborne', ylabel='venomous'>,\n",
       "        <Axes: xlabel='domestic', ylabel='venomous'>,\n",
       "        <Axes: xlabel='feathers', ylabel='venomous'>,\n",
       "        <Axes: xlabel='toothed', ylabel='venomous'>,\n",
       "        <Axes: xlabel='breathes', ylabel='venomous'>,\n",
       "        <Axes: xlabel='catsize', ylabel='venomous'>,\n",
       "        <Axes: xlabel='hair', ylabel='venomous'>,\n",
       "        <Axes: xlabel='tail', ylabel='venomous'>,\n",
       "        <Axes: xlabel='milk', ylabel='venomous'>,\n",
       "        <Axes: xlabel='backbone', ylabel='venomous'>],\n",
       "       [<Axes: xlabel='class_type', ylabel='legs'>,\n",
       "        <Axes: xlabel='eggs', ylabel='legs'>,\n",
       "        <Axes: xlabel='aquatic', ylabel='legs'>,\n",
       "        <Axes: xlabel='venomous', ylabel='legs'>,\n",
       "        <Axes: xlabel='legs', ylabel='legs'>,\n",
       "        <Axes: xlabel='fins', ylabel='legs'>,\n",
       "        <Axes: xlabel='predator', ylabel='legs'>,\n",
       "        <Axes: xlabel='airborne', ylabel='legs'>,\n",
       "        <Axes: xlabel='domestic', ylabel='legs'>,\n",
       "        <Axes: xlabel='feathers', ylabel='legs'>,\n",
       "        <Axes: xlabel='toothed', ylabel='legs'>,\n",
       "        <Axes: xlabel='breathes', ylabel='legs'>,\n",
       "        <Axes: xlabel='catsize', ylabel='legs'>,\n",
       "        <Axes: xlabel='hair', ylabel='legs'>,\n",
       "        <Axes: xlabel='tail', ylabel='legs'>,\n",
       "        <Axes: xlabel='milk', ylabel='legs'>,\n",
       "        <Axes: xlabel='backbone', ylabel='legs'>],\n",
       "       [<Axes: xlabel='class_type', ylabel='fins'>,\n",
       "        <Axes: xlabel='eggs', ylabel='fins'>,\n",
       "        <Axes: xlabel='aquatic', ylabel='fins'>,\n",
       "        <Axes: xlabel='venomous', ylabel='fins'>,\n",
       "        <Axes: xlabel='legs', ylabel='fins'>,\n",
       "        <Axes: xlabel='fins', ylabel='fins'>,\n",
       "        <Axes: xlabel='predator', ylabel='fins'>,\n",
       "        <Axes: xlabel='airborne', ylabel='fins'>,\n",
       "        <Axes: xlabel='domestic', ylabel='fins'>,\n",
       "        <Axes: xlabel='feathers', ylabel='fins'>,\n",
       "        <Axes: xlabel='toothed', ylabel='fins'>,\n",
       "        <Axes: xlabel='breathes', ylabel='fins'>,\n",
       "        <Axes: xlabel='catsize', ylabel='fins'>,\n",
       "        <Axes: xlabel='hair', ylabel='fins'>,\n",
       "        <Axes: xlabel='tail', ylabel='fins'>,\n",
       "        <Axes: xlabel='milk', ylabel='fins'>,\n",
       "        <Axes: xlabel='backbone', ylabel='fins'>],\n",
       "       [<Axes: xlabel='class_type', ylabel='predator'>,\n",
       "        <Axes: xlabel='eggs', ylabel='predator'>,\n",
       "        <Axes: xlabel='aquatic', ylabel='predator'>,\n",
       "        <Axes: xlabel='venomous', ylabel='predator'>,\n",
       "        <Axes: xlabel='legs', ylabel='predator'>,\n",
       "        <Axes: xlabel='fins', ylabel='predator'>,\n",
       "        <Axes: xlabel='predator', ylabel='predator'>,\n",
       "        <Axes: xlabel='airborne', ylabel='predator'>,\n",
       "        <Axes: xlabel='domestic', ylabel='predator'>,\n",
       "        <Axes: xlabel='feathers', ylabel='predator'>,\n",
       "        <Axes: xlabel='toothed', ylabel='predator'>,\n",
       "        <Axes: xlabel='breathes', ylabel='predator'>,\n",
       "        <Axes: xlabel='catsize', ylabel='predator'>,\n",
       "        <Axes: xlabel='hair', ylabel='predator'>,\n",
       "        <Axes: xlabel='tail', ylabel='predator'>,\n",
       "        <Axes: xlabel='milk', ylabel='predator'>,\n",
       "        <Axes: xlabel='backbone', ylabel='predator'>],\n",
       "       [<Axes: xlabel='class_type', ylabel='airborne'>,\n",
       "        <Axes: xlabel='eggs', ylabel='airborne'>,\n",
       "        <Axes: xlabel='aquatic', ylabel='airborne'>,\n",
       "        <Axes: xlabel='venomous', ylabel='airborne'>,\n",
       "        <Axes: xlabel='legs', ylabel='airborne'>,\n",
       "        <Axes: xlabel='fins', ylabel='airborne'>,\n",
       "        <Axes: xlabel='predator', ylabel='airborne'>,\n",
       "        <Axes: xlabel='airborne', ylabel='airborne'>,\n",
       "        <Axes: xlabel='domestic', ylabel='airborne'>,\n",
       "        <Axes: xlabel='feathers', ylabel='airborne'>,\n",
       "        <Axes: xlabel='toothed', ylabel='airborne'>,\n",
       "        <Axes: xlabel='breathes', ylabel='airborne'>,\n",
       "        <Axes: xlabel='catsize', ylabel='airborne'>,\n",
       "        <Axes: xlabel='hair', ylabel='airborne'>,\n",
       "        <Axes: xlabel='tail', ylabel='airborne'>,\n",
       "        <Axes: xlabel='milk', ylabel='airborne'>,\n",
       "        <Axes: xlabel='backbone', ylabel='airborne'>],\n",
       "       [<Axes: xlabel='class_type', ylabel='domestic'>,\n",
       "        <Axes: xlabel='eggs', ylabel='domestic'>,\n",
       "        <Axes: xlabel='aquatic', ylabel='domestic'>,\n",
       "        <Axes: xlabel='venomous', ylabel='domestic'>,\n",
       "        <Axes: xlabel='legs', ylabel='domestic'>,\n",
       "        <Axes: xlabel='fins', ylabel='domestic'>,\n",
       "        <Axes: xlabel='predator', ylabel='domestic'>,\n",
       "        <Axes: xlabel='airborne', ylabel='domestic'>,\n",
       "        <Axes: xlabel='domestic', ylabel='domestic'>,\n",
       "        <Axes: xlabel='feathers', ylabel='domestic'>,\n",
       "        <Axes: xlabel='toothed', ylabel='domestic'>,\n",
       "        <Axes: xlabel='breathes', ylabel='domestic'>,\n",
       "        <Axes: xlabel='catsize', ylabel='domestic'>,\n",
       "        <Axes: xlabel='hair', ylabel='domestic'>,\n",
       "        <Axes: xlabel='tail', ylabel='domestic'>,\n",
       "        <Axes: xlabel='milk', ylabel='domestic'>,\n",
       "        <Axes: xlabel='backbone', ylabel='domestic'>],\n",
       "       [<Axes: xlabel='class_type', ylabel='feathers'>,\n",
       "        <Axes: xlabel='eggs', ylabel='feathers'>,\n",
       "        <Axes: xlabel='aquatic', ylabel='feathers'>,\n",
       "        <Axes: xlabel='venomous', ylabel='feathers'>,\n",
       "        <Axes: xlabel='legs', ylabel='feathers'>,\n",
       "        <Axes: xlabel='fins', ylabel='feathers'>,\n",
       "        <Axes: xlabel='predator', ylabel='feathers'>,\n",
       "        <Axes: xlabel='airborne', ylabel='feathers'>,\n",
       "        <Axes: xlabel='domestic', ylabel='feathers'>,\n",
       "        <Axes: xlabel='feathers', ylabel='feathers'>,\n",
       "        <Axes: xlabel='toothed', ylabel='feathers'>,\n",
       "        <Axes: xlabel='breathes', ylabel='feathers'>,\n",
       "        <Axes: xlabel='catsize', ylabel='feathers'>,\n",
       "        <Axes: xlabel='hair', ylabel='feathers'>,\n",
       "        <Axes: xlabel='tail', ylabel='feathers'>,\n",
       "        <Axes: xlabel='milk', ylabel='feathers'>,\n",
       "        <Axes: xlabel='backbone', ylabel='feathers'>],\n",
       "       [<Axes: xlabel='class_type', ylabel='toothed'>,\n",
       "        <Axes: xlabel='eggs', ylabel='toothed'>,\n",
       "        <Axes: xlabel='aquatic', ylabel='toothed'>,\n",
       "        <Axes: xlabel='venomous', ylabel='toothed'>,\n",
       "        <Axes: xlabel='legs', ylabel='toothed'>,\n",
       "        <Axes: xlabel='fins', ylabel='toothed'>,\n",
       "        <Axes: xlabel='predator', ylabel='toothed'>,\n",
       "        <Axes: xlabel='airborne', ylabel='toothed'>,\n",
       "        <Axes: xlabel='domestic', ylabel='toothed'>,\n",
       "        <Axes: xlabel='feathers', ylabel='toothed'>,\n",
       "        <Axes: xlabel='toothed', ylabel='toothed'>,\n",
       "        <Axes: xlabel='breathes', ylabel='toothed'>,\n",
       "        <Axes: xlabel='catsize', ylabel='toothed'>,\n",
       "        <Axes: xlabel='hair', ylabel='toothed'>,\n",
       "        <Axes: xlabel='tail', ylabel='toothed'>,\n",
       "        <Axes: xlabel='milk', ylabel='toothed'>,\n",
       "        <Axes: xlabel='backbone', ylabel='toothed'>],\n",
       "       [<Axes: xlabel='class_type', ylabel='breathes'>,\n",
       "        <Axes: xlabel='eggs', ylabel='breathes'>,\n",
       "        <Axes: xlabel='aquatic', ylabel='breathes'>,\n",
       "        <Axes: xlabel='venomous', ylabel='breathes'>,\n",
       "        <Axes: xlabel='legs', ylabel='breathes'>,\n",
       "        <Axes: xlabel='fins', ylabel='breathes'>,\n",
       "        <Axes: xlabel='predator', ylabel='breathes'>,\n",
       "        <Axes: xlabel='airborne', ylabel='breathes'>,\n",
       "        <Axes: xlabel='domestic', ylabel='breathes'>,\n",
       "        <Axes: xlabel='feathers', ylabel='breathes'>,\n",
       "        <Axes: xlabel='toothed', ylabel='breathes'>,\n",
       "        <Axes: xlabel='breathes', ylabel='breathes'>,\n",
       "        <Axes: xlabel='catsize', ylabel='breathes'>,\n",
       "        <Axes: xlabel='hair', ylabel='breathes'>,\n",
       "        <Axes: xlabel='tail', ylabel='breathes'>,\n",
       "        <Axes: xlabel='milk', ylabel='breathes'>,\n",
       "        <Axes: xlabel='backbone', ylabel='breathes'>],\n",
       "       [<Axes: xlabel='class_type', ylabel='catsize'>,\n",
       "        <Axes: xlabel='eggs', ylabel='catsize'>,\n",
       "        <Axes: xlabel='aquatic', ylabel='catsize'>,\n",
       "        <Axes: xlabel='venomous', ylabel='catsize'>,\n",
       "        <Axes: xlabel='legs', ylabel='catsize'>,\n",
       "        <Axes: xlabel='fins', ylabel='catsize'>,\n",
       "        <Axes: xlabel='predator', ylabel='catsize'>,\n",
       "        <Axes: xlabel='airborne', ylabel='catsize'>,\n",
       "        <Axes: xlabel='domestic', ylabel='catsize'>,\n",
       "        <Axes: xlabel='feathers', ylabel='catsize'>,\n",
       "        <Axes: xlabel='toothed', ylabel='catsize'>,\n",
       "        <Axes: xlabel='breathes', ylabel='catsize'>,\n",
       "        <Axes: xlabel='catsize', ylabel='catsize'>,\n",
       "        <Axes: xlabel='hair', ylabel='catsize'>,\n",
       "        <Axes: xlabel='tail', ylabel='catsize'>,\n",
       "        <Axes: xlabel='milk', ylabel='catsize'>,\n",
       "        <Axes: xlabel='backbone', ylabel='catsize'>],\n",
       "       [<Axes: xlabel='class_type', ylabel='hair'>,\n",
       "        <Axes: xlabel='eggs', ylabel='hair'>,\n",
       "        <Axes: xlabel='aquatic', ylabel='hair'>,\n",
       "        <Axes: xlabel='venomous', ylabel='hair'>,\n",
       "        <Axes: xlabel='legs', ylabel='hair'>,\n",
       "        <Axes: xlabel='fins', ylabel='hair'>,\n",
       "        <Axes: xlabel='predator', ylabel='hair'>,\n",
       "        <Axes: xlabel='airborne', ylabel='hair'>,\n",
       "        <Axes: xlabel='domestic', ylabel='hair'>,\n",
       "        <Axes: xlabel='feathers', ylabel='hair'>,\n",
       "        <Axes: xlabel='toothed', ylabel='hair'>,\n",
       "        <Axes: xlabel='breathes', ylabel='hair'>,\n",
       "        <Axes: xlabel='catsize', ylabel='hair'>,\n",
       "        <Axes: xlabel='hair', ylabel='hair'>,\n",
       "        <Axes: xlabel='tail', ylabel='hair'>,\n",
       "        <Axes: xlabel='milk', ylabel='hair'>,\n",
       "        <Axes: xlabel='backbone', ylabel='hair'>],\n",
       "       [<Axes: xlabel='class_type', ylabel='tail'>,\n",
       "        <Axes: xlabel='eggs', ylabel='tail'>,\n",
       "        <Axes: xlabel='aquatic', ylabel='tail'>,\n",
       "        <Axes: xlabel='venomous', ylabel='tail'>,\n",
       "        <Axes: xlabel='legs', ylabel='tail'>,\n",
       "        <Axes: xlabel='fins', ylabel='tail'>,\n",
       "        <Axes: xlabel='predator', ylabel='tail'>,\n",
       "        <Axes: xlabel='airborne', ylabel='tail'>,\n",
       "        <Axes: xlabel='domestic', ylabel='tail'>,\n",
       "        <Axes: xlabel='feathers', ylabel='tail'>,\n",
       "        <Axes: xlabel='toothed', ylabel='tail'>,\n",
       "        <Axes: xlabel='breathes', ylabel='tail'>,\n",
       "        <Axes: xlabel='catsize', ylabel='tail'>,\n",
       "        <Axes: xlabel='hair', ylabel='tail'>,\n",
       "        <Axes: xlabel='tail', ylabel='tail'>,\n",
       "        <Axes: xlabel='milk', ylabel='tail'>,\n",
       "        <Axes: xlabel='backbone', ylabel='tail'>],\n",
       "       [<Axes: xlabel='class_type', ylabel='milk'>,\n",
       "        <Axes: xlabel='eggs', ylabel='milk'>,\n",
       "        <Axes: xlabel='aquatic', ylabel='milk'>,\n",
       "        <Axes: xlabel='venomous', ylabel='milk'>,\n",
       "        <Axes: xlabel='legs', ylabel='milk'>,\n",
       "        <Axes: xlabel='fins', ylabel='milk'>,\n",
       "        <Axes: xlabel='predator', ylabel='milk'>,\n",
       "        <Axes: xlabel='airborne', ylabel='milk'>,\n",
       "        <Axes: xlabel='domestic', ylabel='milk'>,\n",
       "        <Axes: xlabel='feathers', ylabel='milk'>,\n",
       "        <Axes: xlabel='toothed', ylabel='milk'>,\n",
       "        <Axes: xlabel='breathes', ylabel='milk'>,\n",
       "        <Axes: xlabel='catsize', ylabel='milk'>,\n",
       "        <Axes: xlabel='hair', ylabel='milk'>,\n",
       "        <Axes: xlabel='tail', ylabel='milk'>,\n",
       "        <Axes: xlabel='milk', ylabel='milk'>,\n",
       "        <Axes: xlabel='backbone', ylabel='milk'>],\n",
       "       [<Axes: xlabel='class_type', ylabel='backbone'>,\n",
       "        <Axes: xlabel='eggs', ylabel='backbone'>,\n",
       "        <Axes: xlabel='aquatic', ylabel='backbone'>,\n",
       "        <Axes: xlabel='venomous', ylabel='backbone'>,\n",
       "        <Axes: xlabel='legs', ylabel='backbone'>,\n",
       "        <Axes: xlabel='fins', ylabel='backbone'>,\n",
       "        <Axes: xlabel='predator', ylabel='backbone'>,\n",
       "        <Axes: xlabel='airborne', ylabel='backbone'>,\n",
       "        <Axes: xlabel='domestic', ylabel='backbone'>,\n",
       "        <Axes: xlabel='feathers', ylabel='backbone'>,\n",
       "        <Axes: xlabel='toothed', ylabel='backbone'>,\n",
       "        <Axes: xlabel='breathes', ylabel='backbone'>,\n",
       "        <Axes: xlabel='catsize', ylabel='backbone'>,\n",
       "        <Axes: xlabel='hair', ylabel='backbone'>,\n",
       "        <Axes: xlabel='tail', ylabel='backbone'>,\n",
       "        <Axes: xlabel='milk', ylabel='backbone'>,\n",
       "        <Axes: xlabel='backbone', ylabel='backbone'>]], dtype=object)"
      ]
     },
     "execution_count": 79,
     "metadata": {},
     "output_type": "execute_result"
    },
    {
     "data": {
      "image/png": "[encoded data removed]",
      "text/plain": [
       "<Figure size 1200x800 with 289 Axes>"
      ]
     },
     "metadata": {},
     "output_type": "display_data"
    }
   ],
   "source": [
    "from pandas.plotting import scatter_matrix\n",
    "\n",
    "# Vemos la relación entre las variables numéricas con una mayor correlación\n",
    "attributes = ['class_type', 'eggs', 'aquatic', 'venomous', 'legs', 'fins', 'predator', 'airborne', 'domestic', 'feathers', 'toothed', 'breathes', 'catsize', 'hair', 'tail', 'milk', 'backbone' ]\n",
    "\n",
    "scatter_matrix(dataset[attributes], figsize=(12, 8))"
   ]
  },
  {
   "cell_type": "markdown",
   "id": "754ba2fc",
   "metadata": {},
   "source": [
    "# SVM"
   ]
  },
  {
   "cell_type": "code",
   "execution_count": 80,
   "id": "4e7129b8",
   "metadata": {},
   "outputs": [
    {
     "name": "stdout",
     "output_type": "stream",
     "text": [
      "Fitting 5 folds for each of 10 candidates, totalling 50 fits\n"
     ]
    },
    {
     "name": "stderr",
     "output_type": "stream",
     "text": [
      "C:\\Users\\Miguel\\anaconda3\\Lib\\site-packages\\sklearn\\model_selection\\_split.py:725: UserWarning: The least populated class in y has only 3 members, which is less than n_splits=5.\n",
      "  warnings.warn(\n"
     ]
    },
    {
     "data": {
      "text/html": [
       "<style>#sk-container-id-1 {color: black;}#sk-container-id-1 pre{padding: 0;}#sk-container-id-1 div.sk-toggleable {background-color: white;}#sk-container-id-1 label.sk-toggleable__label {cursor: pointer;display: block;width: 100%;margin-bottom: 0;padding: 0.3em;box-sizing: border-box;text-align: center;}#sk-container-id-1 label.sk-toggleable__label-arrow:before {content: \"▸\";float: left;margin-right: 0.25em;color: #696969;}#sk-container-id-1 label.sk-toggleable__label-arrow:hover:before {color: black;}#sk-container-id-1 div.sk-estimator:hover label.sk-toggleable__label-arrow:before {color: black;}#sk-container-id-1 div.sk-toggleable__content {max-height: 0;max-width: 0;overflow: hidden;text-align: left;background-color: #f0f8ff;}#sk-container-id-1 div.sk-toggleable__content pre {margin: 0.2em;color: black;border-radius: 0.25em;background-color: #f0f8ff;}#sk-container-id-1 input.sk-toggleable__control:checked~div.sk-toggleable__content {max-height: 200px;max-width: 100%;overflow: auto;}#sk-container-id-1 input.sk-toggleable__control:checked~label.sk-toggleable__label-arrow:before {content: \"▾\";}#sk-container-id-1 div.sk-estimator input.sk-toggleable__control:checked~label.sk-toggleable__label {background-color: #d4ebff;}#sk-container-id-1 div.sk-label input.sk-toggleable__control:checked~label.sk-toggleable__label {background-color: #d4ebff;}#sk-container-id-1 input.sk-hidden--visually {border: 0;clip: rect(1px 1px 1px 1px);clip: rect(1px, 1px, 1px, 1px);height: 1px;margin: -1px;overflow: hidden;padding: 0;position: absolute;width: 1px;}#sk-container-id-1 div.sk-estimator {font-family: monospace;background-color: #f0f8ff;border: 1px dotted black;border-radius: 0.25em;box-sizing: border-box;margin-bottom: 0.5em;}#sk-container-id-1 div.sk-estimator:hover {background-color: #d4ebff;}#sk-container-id-1 div.sk-parallel-item::after {content: \"\";width: 100%;border-bottom: 1px solid gray;flex-grow: 1;}#sk-container-id-1 div.sk-label:hover label.sk-toggleable__label {background-color: #d4ebff;}#sk-container-id-1 div.sk-serial::before {content: \"\";position: absolute;border-left: 1px solid gray;box-sizing: border-box;top: 0;bottom: 0;left: 50%;z-index: 0;}#sk-container-id-1 div.sk-serial {display: flex;flex-direction: column;align-items: center;background-color: white;padding-right: 0.2em;padding-left: 0.2em;position: relative;}#sk-container-id-1 div.sk-item {position: relative;z-index: 1;}#sk-container-id-1 div.sk-parallel {display: flex;align-items: stretch;justify-content: center;background-color: white;position: relative;}#sk-container-id-1 div.sk-item::before, #sk-container-id-1 div.sk-parallel-item::before {content: \"\";position: absolute;border-left: 1px solid gray;box-sizing: border-box;top: 0;bottom: 0;left: 50%;z-index: -1;}#sk-container-id-1 div.sk-parallel-item {display: flex;flex-direction: column;z-index: 1;position: relative;background-color: white;}#sk-container-id-1 div.sk-parallel-item:first-child::after {align-self: flex-end;width: 50%;}#sk-container-id-1 div.sk-parallel-item:last-child::after {align-self: flex-start;width: 50%;}#sk-container-id-1 div.sk-parallel-item:only-child::after {width: 0;}#sk-container-id-1 div.sk-dashed-wrapped {border: 1px dashed gray;margin: 0 0.4em 0.5em 0.4em;box-sizing: border-box;padding-bottom: 0.4em;background-color: white;}#sk-container-id-1 div.sk-label label {font-family: monospace;font-weight: bold;display: inline-block;line-height: 1.2em;}#sk-container-id-1 div.sk-label-container {text-align: center;}#sk-container-id-1 div.sk-container {/* jupyter's `normalize.less` sets `[hidden] { display: none; }` but bootstrap.min.css set `[hidden] { display: none !important; }` so we also need the `!important` here to be able to override the default hidden behavior on the sphinx rendered scikit-learn.org. See: https://github.com/scikit-learn/scikit-learn/issues/21755 */display: inline-block !important;position: relative;}#sk-container-id-1 div.sk-text-repr-fallback {display: none;}</style><div id=\"sk-container-id-1\" class=\"sk-top-container\"><div class=\"sk-text-repr-fallback\"><pre>RandomizedSearchCV(cv=5,\n",
       "                   estimator=Pipeline(steps=[(&#x27;scaler&#x27;, StandardScaler()),\n",
       "                                             (&#x27;svm_clf&#x27;, SVC())]),\n",
       "                   n_jobs=-1,\n",
       "                   param_distributions=[{&#x27;svm_clf__C&#x27;: [0.1, 1, 10, 100, 1000],\n",
       "                                         &#x27;svm_clf__kernel&#x27;: [&#x27;linear&#x27;],\n",
       "                                         &#x27;svm_clf__probability&#x27;: [True]},\n",
       "                                        {&#x27;svm_clf__C&#x27;: [0.1, 1, 10, 100, 1000],\n",
       "                                         &#x27;svm_clf__gamma&#x27;: [0.001, 0.0001],\n",
       "                                         &#x27;svm_clf__kernel&#x27;: [&#x27;rbf&#x27;],\n",
       "                                         &#x27;svm_clf__probability&#x27;: [True]},\n",
       "                                        {&#x27;svm_clf__C&#x27;: [0.1, 1, 10, 100, 1000],\n",
       "                                         &#x27;svm_clf__degree&#x27;: [2, 3],\n",
       "                                         &#x27;svm_clf__gamma&#x27;: [0.001, 0.0001],\n",
       "                                         &#x27;svm_clf__kernel&#x27;: [&#x27;poly&#x27;],\n",
       "                                         &#x27;svm_clf__probability&#x27;: [True]}],\n",
       "                   random_state=42, scoring=&#x27;accuracy&#x27;, verbose=True)</pre><b>In a Jupyter environment, please rerun this cell to show the HTML representation or trust the notebook. <br />On GitHub, the HTML representation is unable to render, please try loading this page with nbviewer.org.</b></div><div class=\"sk-container\" hidden><div class=\"sk-item sk-dashed-wrapped\"><div class=\"sk-label-container\"><div class=\"sk-label sk-toggleable\"><input class=\"sk-toggleable__control sk-hidden--visually\" id=\"sk-estimator-id-1\" type=\"checkbox\" ><label for=\"sk-estimator-id-1\" class=\"sk-toggleable__label sk-toggleable__label-arrow\">RandomizedSearchCV</label><div class=\"sk-toggleable__content\"><pre>RandomizedSearchCV(cv=5,\n",
       "                   estimator=Pipeline(steps=[(&#x27;scaler&#x27;, StandardScaler()),\n",
       "                                             (&#x27;svm_clf&#x27;, SVC())]),\n",
       "                   n_jobs=-1,\n",
       "                   param_distributions=[{&#x27;svm_clf__C&#x27;: [0.1, 1, 10, 100, 1000],\n",
       "                                         &#x27;svm_clf__kernel&#x27;: [&#x27;linear&#x27;],\n",
       "                                         &#x27;svm_clf__probability&#x27;: [True]},\n",
       "                                        {&#x27;svm_clf__C&#x27;: [0.1, 1, 10, 100, 1000],\n",
       "                                         &#x27;svm_clf__gamma&#x27;: [0.001, 0.0001],\n",
       "                                         &#x27;svm_clf__kernel&#x27;: [&#x27;rbf&#x27;],\n",
       "                                         &#x27;svm_clf__probability&#x27;: [True]},\n",
       "                                        {&#x27;svm_clf__C&#x27;: [0.1, 1, 10, 100, 1000],\n",
       "                                         &#x27;svm_clf__degree&#x27;: [2, 3],\n",
       "                                         &#x27;svm_clf__gamma&#x27;: [0.001, 0.0001],\n",
       "                                         &#x27;svm_clf__kernel&#x27;: [&#x27;poly&#x27;],\n",
       "                                         &#x27;svm_clf__probability&#x27;: [True]}],\n",
       "                   random_state=42, scoring=&#x27;accuracy&#x27;, verbose=True)</pre></div></div></div><div class=\"sk-parallel\"><div class=\"sk-parallel-item\"><div class=\"sk-item\"><div class=\"sk-label-container\"><div class=\"sk-label sk-toggleable\"><input class=\"sk-toggleable__control sk-hidden--visually\" id=\"sk-estimator-id-2\" type=\"checkbox\" ><label for=\"sk-estimator-id-2\" class=\"sk-toggleable__label sk-toggleable__label-arrow\">estimator: Pipeline</label><div class=\"sk-toggleable__content\"><pre>Pipeline(steps=[(&#x27;scaler&#x27;, StandardScaler()), (&#x27;svm_clf&#x27;, SVC())])</pre></div></div></div><div class=\"sk-serial\"><div class=\"sk-item\"><div class=\"sk-serial\"><div class=\"sk-item\"><div class=\"sk-estimator sk-toggleable\"><input class=\"sk-toggleable__control sk-hidden--visually\" id=\"sk-estimator-id-3\" type=\"checkbox\" ><label for=\"sk-estimator-id-3\" class=\"sk-toggleable__label sk-toggleable__label-arrow\">StandardScaler</label><div class=\"sk-toggleable__content\"><pre>StandardScaler()</pre></div></div></div><div class=\"sk-item\"><div class=\"sk-estimator sk-toggleable\"><input class=\"sk-toggleable__control sk-hidden--visually\" id=\"sk-estimator-id-4\" type=\"checkbox\" ><label for=\"sk-estimator-id-4\" class=\"sk-toggleable__label sk-toggleable__label-arrow\">SVC</label><div class=\"sk-toggleable__content\"><pre>SVC()</pre></div></div></div></div></div></div></div></div></div></div></div></div>"
      ],
      "text/plain": [
       "RandomizedSearchCV(cv=5,\n",
       "                   estimator=Pipeline(steps=[('scaler', StandardScaler()),\n",
       "                                             ('svm_clf', SVC())]),\n",
       "                   n_jobs=-1,\n",
       "                   param_distributions=[{'svm_clf__C': [0.1, 1, 10, 100, 1000],\n",
       "                                         'svm_clf__kernel': ['linear'],\n",
       "                                         'svm_clf__probability': [True]},\n",
       "                                        {'svm_clf__C': [0.1, 1, 10, 100, 1000],\n",
       "                                         'svm_clf__gamma': [0.001, 0.0001],\n",
       "                                         'svm_clf__kernel': ['rbf'],\n",
       "                                         'svm_clf__probability': [True]},\n",
       "                                        {'svm_clf__C': [0.1, 1, 10, 100, 1000],\n",
       "                                         'svm_clf__degree': [2, 3],\n",
       "                                         'svm_clf__gamma': [0.001, 0.0001],\n",
       "                                         'svm_clf__kernel': ['poly'],\n",
       "                                         'svm_clf__probability': [True]}],\n",
       "                   random_state=42, scoring='accuracy', verbose=True)"
      ]
     },
     "execution_count": 80,
     "metadata": {},
     "output_type": "execute_result"
    }
   ],
   "source": [
    "from sklearn.model_selection import RandomizedSearchCV\n",
    "from sklearn.pipeline import Pipeline\n",
    "from sklearn.preprocessing import StandardScaler\n",
    "from sklearn.svm import SVC\n",
    "\n",
    "# Definición de los conjuntos de entrenamiento y prueba\n",
    "X_train = strat_train_set.drop('class_type', axis=1)\n",
    "y_train = strat_train_set['class_type'].copy()\n",
    "X_test = strat_test_set.drop('class_type', axis=1)\n",
    "y_test = strat_test_set['class_type'].copy()\n",
    "\n",
    "# Creamos el clasificador SVC\n",
    "svm_clf = SVC()\n",
    "\n",
    "# Creamos el pipeline\n",
    "svm_clf_pipeline = Pipeline([\n",
    "    (\"scaler\", StandardScaler()),\n",
    "    (\"svm_clf\", svm_clf)\n",
    "])\n",
    "\n",
    "# Grid de parámetros para el clasificador SVC\n",
    "param_grid = [\n",
    "    {'svm_clf__C': [0.1, 1, 10, 100, 1000], 'svm_clf__kernel': ['linear'], 'svm_clf__probability': [True]},\n",
    "    {'svm_clf__C': [0.1, 1, 10, 100, 1000], 'svm_clf__gamma': [0.001, 0.0001], 'svm_clf__kernel': ['rbf'], 'svm_clf__probability': [True]},\n",
    "    {'svm_clf__C': [0.1, 1, 10, 100, 1000], 'svm_clf__gamma': [0.001, 0.0001], 'svm_clf__kernel': ['poly'], 'svm_clf__degree': [2, 3], 'svm_clf__probability': [True]}\n",
    "] \n",
    "\n",
    "# Creamos el RandomizedSearchCV\n",
    "randomized_search = RandomizedSearchCV(svm_clf_pipeline, param_grid, cv=5, scoring='accuracy', n_jobs=-1, verbose=True, random_state=42)\n",
    "\n",
    "# Entrenamos el modelo\n",
    "randomized_search.fit(X_train, y_train)\n"
   ]
  },
  {
   "cell_type": "code",
   "execution_count": 81,
   "id": "25d9eaf4",
   "metadata": {},
   "outputs": [
    {
     "data": {
      "text/plain": [
       "{'svm_clf__probability': True,\n",
       " 'svm_clf__kernel': 'rbf',\n",
       " 'svm_clf__gamma': 0.001,\n",
       " 'svm_clf__C': 1000}"
      ]
     },
     "execution_count": 81,
     "metadata": {},
     "output_type": "execute_result"
    }
   ],
   "source": [
    "# Obtenemos el pipeline con el mejor estimador\n",
    "final_model = randomized_search.best_estimator_\n",
    "\n",
    "# Mostramos los mejores parámetros\n",
    "randomized_search.best_params_"
   ]
  },
  {
   "cell_type": "code",
   "execution_count": 82,
   "id": "fc526405",
   "metadata": {},
   "outputs": [
    {
     "data": {
      "text/html": [
       "<style>#sk-container-id-2 {color: black;}#sk-container-id-2 pre{padding: 0;}#sk-container-id-2 div.sk-toggleable {background-color: white;}#sk-container-id-2 label.sk-toggleable__label {cursor: pointer;display: block;width: 100%;margin-bottom: 0;padding: 0.3em;box-sizing: border-box;text-align: center;}#sk-container-id-2 label.sk-toggleable__label-arrow:before {content: \"▸\";float: left;margin-right: 0.25em;color: #696969;}#sk-container-id-2 label.sk-toggleable__label-arrow:hover:before {color: black;}#sk-container-id-2 div.sk-estimator:hover label.sk-toggleable__label-arrow:before {color: black;}#sk-container-id-2 div.sk-toggleable__content {max-height: 0;max-width: 0;overflow: hidden;text-align: left;background-color: #f0f8ff;}#sk-container-id-2 div.sk-toggleable__content pre {margin: 0.2em;color: black;border-radius: 0.25em;background-color: #f0f8ff;}#sk-container-id-2 input.sk-toggleable__control:checked~div.sk-toggleable__content {max-height: 200px;max-width: 100%;overflow: auto;}#sk-container-id-2 input.sk-toggleable__control:checked~label.sk-toggleable__label-arrow:before {content: \"▾\";}#sk-container-id-2 div.sk-estimator input.sk-toggleable__control:checked~label.sk-toggleable__label {background-color: #d4ebff;}#sk-container-id-2 div.sk-label input.sk-toggleable__control:checked~label.sk-toggleable__label {background-color: #d4ebff;}#sk-container-id-2 input.sk-hidden--visually {border: 0;clip: rect(1px 1px 1px 1px);clip: rect(1px, 1px, 1px, 1px);height: 1px;margin: -1px;overflow: hidden;padding: 0;position: absolute;width: 1px;}#sk-container-id-2 div.sk-estimator {font-family: monospace;background-color: #f0f8ff;border: 1px dotted black;border-radius: 0.25em;box-sizing: border-box;margin-bottom: 0.5em;}#sk-container-id-2 div.sk-estimator:hover {background-color: #d4ebff;}#sk-container-id-2 div.sk-parallel-item::after {content: \"\";width: 100%;border-bottom: 1px solid gray;flex-grow: 1;}#sk-container-id-2 div.sk-label:hover label.sk-toggleable__label {background-color: #d4ebff;}#sk-container-id-2 div.sk-serial::before {content: \"\";position: absolute;border-left: 1px solid gray;box-sizing: border-box;top: 0;bottom: 0;left: 50%;z-index: 0;}#sk-container-id-2 div.sk-serial {display: flex;flex-direction: column;align-items: center;background-color: white;padding-right: 0.2em;padding-left: 0.2em;position: relative;}#sk-container-id-2 div.sk-item {position: relative;z-index: 1;}#sk-container-id-2 div.sk-parallel {display: flex;align-items: stretch;justify-content: center;background-color: white;position: relative;}#sk-container-id-2 div.sk-item::before, #sk-container-id-2 div.sk-parallel-item::before {content: \"\";position: absolute;border-left: 1px solid gray;box-sizing: border-box;top: 0;bottom: 0;left: 50%;z-index: -1;}#sk-container-id-2 div.sk-parallel-item {display: flex;flex-direction: column;z-index: 1;position: relative;background-color: white;}#sk-container-id-2 div.sk-parallel-item:first-child::after {align-self: flex-end;width: 50%;}#sk-container-id-2 div.sk-parallel-item:last-child::after {align-self: flex-start;width: 50%;}#sk-container-id-2 div.sk-parallel-item:only-child::after {width: 0;}#sk-container-id-2 div.sk-dashed-wrapped {border: 1px dashed gray;margin: 0 0.4em 0.5em 0.4em;box-sizing: border-box;padding-bottom: 0.4em;background-color: white;}#sk-container-id-2 div.sk-label label {font-family: monospace;font-weight: bold;display: inline-block;line-height: 1.2em;}#sk-container-id-2 div.sk-label-container {text-align: center;}#sk-container-id-2 div.sk-container {/* jupyter's `normalize.less` sets `[hidden] { display: none; }` but bootstrap.min.css set `[hidden] { display: none !important; }` so we also need the `!important` here to be able to override the default hidden behavior on the sphinx rendered scikit-learn.org. See: https://github.com/scikit-learn/scikit-learn/issues/21755 */display: inline-block !important;position: relative;}#sk-container-id-2 div.sk-text-repr-fallback {display: none;}</style><div id=\"sk-container-id-2\" class=\"sk-top-container\"><div class=\"sk-text-repr-fallback\"><pre>Pipeline(steps=[(&#x27;scaler&#x27;, StandardScaler()),\n",
       "                (&#x27;svm_clf&#x27;, SVC(C=1000, gamma=0.001, probability=True))])</pre><b>In a Jupyter environment, please rerun this cell to show the HTML representation or trust the notebook. <br />On GitHub, the HTML representation is unable to render, please try loading this page with nbviewer.org.</b></div><div class=\"sk-container\" hidden><div class=\"sk-item sk-dashed-wrapped\"><div class=\"sk-label-container\"><div class=\"sk-label sk-toggleable\"><input class=\"sk-toggleable__control sk-hidden--visually\" id=\"sk-estimator-id-5\" type=\"checkbox\" ><label for=\"sk-estimator-id-5\" class=\"sk-toggleable__label sk-toggleable__label-arrow\">Pipeline</label><div class=\"sk-toggleable__content\"><pre>Pipeline(steps=[(&#x27;scaler&#x27;, StandardScaler()),\n",
       "                (&#x27;svm_clf&#x27;, SVC(C=1000, gamma=0.001, probability=True))])</pre></div></div></div><div class=\"sk-serial\"><div class=\"sk-item\"><div class=\"sk-estimator sk-toggleable\"><input class=\"sk-toggleable__control sk-hidden--visually\" id=\"sk-estimator-id-6\" type=\"checkbox\" ><label for=\"sk-estimator-id-6\" class=\"sk-toggleable__label sk-toggleable__label-arrow\">StandardScaler</label><div class=\"sk-toggleable__content\"><pre>StandardScaler()</pre></div></div></div><div class=\"sk-item\"><div class=\"sk-estimator sk-toggleable\"><input class=\"sk-toggleable__control sk-hidden--visually\" id=\"sk-estimator-id-7\" type=\"checkbox\" ><label for=\"sk-estimator-id-7\" class=\"sk-toggleable__label sk-toggleable__label-arrow\">SVC</label><div class=\"sk-toggleable__content\"><pre>SVC(C=1000, gamma=0.001, probability=True)</pre></div></div></div></div></div></div></div>"
      ],
      "text/plain": [
       "Pipeline(steps=[('scaler', StandardScaler()),\n",
       "                ('svm_clf', SVC(C=1000, gamma=0.001, probability=True))])"
      ]
     },
     "execution_count": 82,
     "metadata": {},
     "output_type": "execute_result"
    }
   ],
   "source": [
    "# Entrenamos el modelo\n",
    "final_model.fit(X_train, y_train)"
   ]
  },
  {
   "cell_type": "code",
   "execution_count": 84,
   "id": "45f9e7c0",
   "metadata": {},
   "outputs": [
    {
     "data": {
      "text/plain": [
       "['models/svc_clf.pkl']"
      ]
     },
     "execution_count": 84,
     "metadata": {},
     "output_type": "execute_result"
    }
   ],
   "source": [
    "import joblib\n",
    "\n",
    "joblib.dump(final_model, 'models/svc_clf.pkl')"
   ]
  },
  {
   "cell_type": "code",
   "execution_count": 85,
   "id": "492eb912",
   "metadata": {},
   "outputs": [
    {
     "data": {
      "text/plain": [
       "array([[8, 0, 0, 0, 0, 0, 0],\n",
       "       [0, 4, 0, 0, 0, 0, 0],\n",
       "       [0, 0, 1, 0, 0, 0, 0],\n",
       "       [0, 0, 0, 3, 0, 0, 0],\n",
       "       [0, 0, 0, 0, 1, 0, 0],\n",
       "       [0, 0, 0, 0, 0, 2, 0],\n",
       "       [0, 0, 0, 0, 0, 0, 2]], dtype=int64)"
      ]
     },
     "execution_count": 85,
     "metadata": {},
     "output_type": "execute_result"
    }
   ],
   "source": [
    "from sklearn.model_selection import cross_val_predict\n",
    "from sklearn.metrics import confusion_matrix\n",
    "\n",
    "# Predecimos el target de test\n",
    "y_test_pred = final_model.predict(X_test)\n",
    "\n",
    "# Calculamos la matriz de confusión\n",
    "confusion_matrix(y_test, y_test_pred)"
   ]
  },
  {
   "cell_type": "code",
   "execution_count": 86,
   "id": "43c28429",
   "metadata": {},
   "outputs": [
    {
     "data": {
      "image/png": "[encoded data removed]",
      "text/plain": [
       "<Figure size 480x480 with 1 Axes>"
      ]
     },
     "metadata": {},
     "output_type": "display_data"
    }
   ],
   "source": [
    "# Mostramos la matriz de confusión de forma gráfica\n",
    "plt.matshow(confusion_matrix(y_test, y_test_pred), cmap=plt.cm.gray)\n",
    "plt.show()"
   ]
  },
  {
   "cell_type": "code",
   "execution_count": 87,
   "id": "4f93a541",
   "metadata": {},
   "outputs": [
    {
     "name": "stdout",
     "output_type": "stream",
     "text": [
      "Accuracy:  1.0\n",
      "Precision:  1.0\n",
      "Recall:  1.0\n",
      "F1-Score:  1.0\n",
      "ROC AUC Score:  1.0\n"
     ]
    }
   ],
   "source": [
    "from sklearn.metrics import accuracy_score, precision_score, recall_score, f1_score, roc_auc_score\n",
    "\n",
    "# Obtenemos la predicción de probabilidades\n",
    "y_pred = final_model.predict_proba(X_test)\n",
    "\n",
    "# Almacenamos los resultados de precision, recall, accuracy, f1-score y roc auc score\n",
    "final_results = [\n",
    "    accuracy_score(y_test, y_test_pred),\n",
    "    precision_score(y_test, y_test_pred, average='weighted'),\n",
    "    recall_score(y_test, y_test_pred, average='weighted'),\n",
    "    f1_score(y_test, y_test_pred, average='weighted'),\n",
    "    roc_auc_score(y_test, y_pred, multi_class='ovr')\n",
    "]\n",
    "\n",
    "# Mostramos el precision, recall, accuracy, f1-score y roc auc score\n",
    "print(\"Accuracy: \", final_results[0])\n",
    "print(\"Precision: \", final_results[1])\n",
    "print(\"Recall: \", final_results[2])\n",
    "print(\"F1-Score: \", final_results[3])\n",
    "print(\"ROC AUC Score: \", final_results[4])"
   ]
  },
  {
   "cell_type": "code",
   "execution_count": 88,
   "id": "3a2e7145",
   "metadata": {},
   "outputs": [
    {
     "data": {
      "text/plain": [
       "['models/svc_clf_results.pkl']"
      ]
     },
     "execution_count": 88,
     "metadata": {},
     "output_type": "execute_result"
    }
   ],
   "source": [
    "joblib.dump(final_results, 'models/svc_clf_results.pkl')\n"
   ]
  },
  {
   "cell_type": "markdown",
   "id": "5e80a0ca",
   "metadata": {},
   "source": [
    "# RandomForestClassifier"
   ]
  },
  {
   "cell_type": "code",
   "execution_count": 89,
   "id": "42e3efc9",
   "metadata": {},
   "outputs": [
    {
     "name": "stdout",
     "output_type": "stream",
     "text": [
      "Fitting 5 folds for each of 10 candidates, totalling 50 fits\n"
     ]
    },
    {
     "name": "stderr",
     "output_type": "stream",
     "text": [
      "C:\\Users\\Miguel\\anaconda3\\Lib\\site-packages\\sklearn\\model_selection\\_split.py:725: UserWarning: The least populated class in y has only 3 members, which is less than n_splits=5.\n",
      "  warnings.warn(\n"
     ]
    },
    {
     "data": {
      "text/html": [
       "<style>#sk-container-id-3 {color: black;}#sk-container-id-3 pre{padding: 0;}#sk-container-id-3 div.sk-toggleable {background-color: white;}#sk-container-id-3 label.sk-toggleable__label {cursor: pointer;display: block;width: 100%;margin-bottom: 0;padding: 0.3em;box-sizing: border-box;text-align: center;}#sk-container-id-3 label.sk-toggleable__label-arrow:before {content: \"▸\";float: left;margin-right: 0.25em;color: #696969;}#sk-container-id-3 label.sk-toggleable__label-arrow:hover:before {color: black;}#sk-container-id-3 div.sk-estimator:hover label.sk-toggleable__label-arrow:before {color: black;}#sk-container-id-3 div.sk-toggleable__content {max-height: 0;max-width: 0;overflow: hidden;text-align: left;background-color: #f0f8ff;}#sk-container-id-3 div.sk-toggleable__content pre {margin: 0.2em;color: black;border-radius: 0.25em;background-color: #f0f8ff;}#sk-container-id-3 input.sk-toggleable__control:checked~div.sk-toggleable__content {max-height: 200px;max-width: 100%;overflow: auto;}#sk-container-id-3 input.sk-toggleable__control:checked~label.sk-toggleable__label-arrow:before {content: \"▾\";}#sk-container-id-3 div.sk-estimator input.sk-toggleable__control:checked~label.sk-toggleable__label {background-color: #d4ebff;}#sk-container-id-3 div.sk-label input.sk-toggleable__control:checked~label.sk-toggleable__label {background-color: #d4ebff;}#sk-container-id-3 input.sk-hidden--visually {border: 0;clip: rect(1px 1px 1px 1px);clip: rect(1px, 1px, 1px, 1px);height: 1px;margin: -1px;overflow: hidden;padding: 0;position: absolute;width: 1px;}#sk-container-id-3 div.sk-estimator {font-family: monospace;background-color: #f0f8ff;border: 1px dotted black;border-radius: 0.25em;box-sizing: border-box;margin-bottom: 0.5em;}#sk-container-id-3 div.sk-estimator:hover {background-color: #d4ebff;}#sk-container-id-3 div.sk-parallel-item::after {content: \"\";width: 100%;border-bottom: 1px solid gray;flex-grow: 1;}#sk-container-id-3 div.sk-label:hover label.sk-toggleable__label {background-color: #d4ebff;}#sk-container-id-3 div.sk-serial::before {content: \"\";position: absolute;border-left: 1px solid gray;box-sizing: border-box;top: 0;bottom: 0;left: 50%;z-index: 0;}#sk-container-id-3 div.sk-serial {display: flex;flex-direction: column;align-items: center;background-color: white;padding-right: 0.2em;padding-left: 0.2em;position: relative;}#sk-container-id-3 div.sk-item {position: relative;z-index: 1;}#sk-container-id-3 div.sk-parallel {display: flex;align-items: stretch;justify-content: center;background-color: white;position: relative;}#sk-container-id-3 div.sk-item::before, #sk-container-id-3 div.sk-parallel-item::before {content: \"\";position: absolute;border-left: 1px solid gray;box-sizing: border-box;top: 0;bottom: 0;left: 50%;z-index: -1;}#sk-container-id-3 div.sk-parallel-item {display: flex;flex-direction: column;z-index: 1;position: relative;background-color: white;}#sk-container-id-3 div.sk-parallel-item:first-child::after {align-self: flex-end;width: 50%;}#sk-container-id-3 div.sk-parallel-item:last-child::after {align-self: flex-start;width: 50%;}#sk-container-id-3 div.sk-parallel-item:only-child::after {width: 0;}#sk-container-id-3 div.sk-dashed-wrapped {border: 1px dashed gray;margin: 0 0.4em 0.5em 0.4em;box-sizing: border-box;padding-bottom: 0.4em;background-color: white;}#sk-container-id-3 div.sk-label label {font-family: monospace;font-weight: bold;display: inline-block;line-height: 1.2em;}#sk-container-id-3 div.sk-label-container {text-align: center;}#sk-container-id-3 div.sk-container {/* jupyter's `normalize.less` sets `[hidden] { display: none; }` but bootstrap.min.css set `[hidden] { display: none !important; }` so we also need the `!important` here to be able to override the default hidden behavior on the sphinx rendered scikit-learn.org. See: https://github.com/scikit-learn/scikit-learn/issues/21755 */display: inline-block !important;position: relative;}#sk-container-id-3 div.sk-text-repr-fallback {display: none;}</style><div id=\"sk-container-id-3\" class=\"sk-top-container\"><div class=\"sk-text-repr-fallback\"><pre>RandomizedSearchCV(cv=5,\n",
       "                   estimator=Pipeline(steps=[(&#x27;pca&#x27;, PCA()),\n",
       "                                             (&#x27;rf_clf&#x27;,\n",
       "                                              RandomForestClassifier())]),\n",
       "                   n_jobs=-1,\n",
       "                   param_distributions=[{&#x27;rf_clf__max_features&#x27;: [2, 4, 6, 8],\n",
       "                                         &#x27;rf_clf__n_estimators&#x27;: [10, 100, 200,\n",
       "                                                                  500]},\n",
       "                                        {&#x27;rf_clf__bootstrap&#x27;: [False],\n",
       "                                         &#x27;rf_clf__max_features&#x27;: [2, 3, 4],\n",
       "                                         &#x27;rf_clf__n_estimators&#x27;: [10, 100, 200,\n",
       "                                                                  500]}],\n",
       "                   random_state=42, scoring=&#x27;accuracy&#x27;, verbose=True)</pre><b>In a Jupyter environment, please rerun this cell to show the HTML representation or trust the notebook. <br />On GitHub, the HTML representation is unable to render, please try loading this page with nbviewer.org.</b></div><div class=\"sk-container\" hidden><div class=\"sk-item sk-dashed-wrapped\"><div class=\"sk-label-container\"><div class=\"sk-label sk-toggleable\"><input class=\"sk-toggleable__control sk-hidden--visually\" id=\"sk-estimator-id-8\" type=\"checkbox\" ><label for=\"sk-estimator-id-8\" class=\"sk-toggleable__label sk-toggleable__label-arrow\">RandomizedSearchCV</label><div class=\"sk-toggleable__content\"><pre>RandomizedSearchCV(cv=5,\n",
       "                   estimator=Pipeline(steps=[(&#x27;pca&#x27;, PCA()),\n",
       "                                             (&#x27;rf_clf&#x27;,\n",
       "                                              RandomForestClassifier())]),\n",
       "                   n_jobs=-1,\n",
       "                   param_distributions=[{&#x27;rf_clf__max_features&#x27;: [2, 4, 6, 8],\n",
       "                                         &#x27;rf_clf__n_estimators&#x27;: [10, 100, 200,\n",
       "                                                                  500]},\n",
       "                                        {&#x27;rf_clf__bootstrap&#x27;: [False],\n",
       "                                         &#x27;rf_clf__max_features&#x27;: [2, 3, 4],\n",
       "                                         &#x27;rf_clf__n_estimators&#x27;: [10, 100, 200,\n",
       "                                                                  500]}],\n",
       "                   random_state=42, scoring=&#x27;accuracy&#x27;, verbose=True)</pre></div></div></div><div class=\"sk-parallel\"><div class=\"sk-parallel-item\"><div class=\"sk-item\"><div class=\"sk-label-container\"><div class=\"sk-label sk-toggleable\"><input class=\"sk-toggleable__control sk-hidden--visually\" id=\"sk-estimator-id-9\" type=\"checkbox\" ><label for=\"sk-estimator-id-9\" class=\"sk-toggleable__label sk-toggleable__label-arrow\">estimator: Pipeline</label><div class=\"sk-toggleable__content\"><pre>Pipeline(steps=[(&#x27;pca&#x27;, PCA()), (&#x27;rf_clf&#x27;, RandomForestClassifier())])</pre></div></div></div><div class=\"sk-serial\"><div class=\"sk-item\"><div class=\"sk-serial\"><div class=\"sk-item\"><div class=\"sk-estimator sk-toggleable\"><input class=\"sk-toggleable__control sk-hidden--visually\" id=\"sk-estimator-id-10\" type=\"checkbox\" ><label for=\"sk-estimator-id-10\" class=\"sk-toggleable__label sk-toggleable__label-arrow\">PCA</label><div class=\"sk-toggleable__content\"><pre>PCA()</pre></div></div></div><div class=\"sk-item\"><div class=\"sk-estimator sk-toggleable\"><input class=\"sk-toggleable__control sk-hidden--visually\" id=\"sk-estimator-id-11\" type=\"checkbox\" ><label for=\"sk-estimator-id-11\" class=\"sk-toggleable__label sk-toggleable__label-arrow\">RandomForestClassifier</label><div class=\"sk-toggleable__content\"><pre>RandomForestClassifier()</pre></div></div></div></div></div></div></div></div></div></div></div></div>"
      ],
      "text/plain": [
       "RandomizedSearchCV(cv=5,\n",
       "                   estimator=Pipeline(steps=[('pca', PCA()),\n",
       "                                             ('rf_clf',\n",
       "                                              RandomForestClassifier())]),\n",
       "                   n_jobs=-1,\n",
       "                   param_distributions=[{'rf_clf__max_features': [2, 4, 6, 8],\n",
       "                                         'rf_clf__n_estimators': [10, 100, 200,\n",
       "                                                                  500]},\n",
       "                                        {'rf_clf__bootstrap': [False],\n",
       "                                         'rf_clf__max_features': [2, 3, 4],\n",
       "                                         'rf_clf__n_estimators': [10, 100, 200,\n",
       "                                                                  500]}],\n",
       "                   random_state=42, scoring='accuracy', verbose=True)"
      ]
     },
     "execution_count": 89,
     "metadata": {},
     "output_type": "execute_result"
    }
   ],
   "source": [
    "from sklearn.ensemble import RandomForestClassifier\n",
    "from sklearn.decomposition import PCA\n",
    "\n",
    "# Creamos el clasificador Random Forest\n",
    "rf_clf = RandomForestClassifier()\n",
    "\n",
    "# Creamos el pipeline\n",
    "rf_clf_pipeline = Pipeline([\n",
    "    (\"pca\", PCA()),\n",
    "    (\"rf_clf\", rf_clf)\n",
    "])\n",
    "\n",
    "# Grid de parámetros para el clasificador RandomForestClassifier\n",
    "param_grid = [\n",
    "    {'rf_clf__n_estimators': [10, 100, 200, 500], 'rf_clf__max_features': [2, 4, 6, 8]},\n",
    "    {'rf_clf__bootstrap': [False], 'rf_clf__n_estimators': [10, 100, 200, 500], 'rf_clf__max_features': [2, 3, 4]}\n",
    "]\n",
    "\n",
    "# Creamos el RandomizedSearchCV\n",
    "randomized_search = RandomizedSearchCV(rf_clf_pipeline, param_grid, cv=5, scoring='accuracy', n_jobs=-1, verbose=True, random_state=42)\n",
    "\n",
    "# Entrenamos el modelo\n",
    "randomized_search.fit(X_train, y_train)"
   ]
  },
  {
   "cell_type": "code",
   "execution_count": 90,
   "id": "467b6f43",
   "metadata": {},
   "outputs": [
    {
     "data": {
      "text/plain": [
       "{'rf_clf__n_estimators': 100,\n",
       " 'rf_clf__max_features': 4,\n",
       " 'rf_clf__bootstrap': False}"
      ]
     },
     "execution_count": 90,
     "metadata": {},
     "output_type": "execute_result"
    }
   ],
   "source": [
    "# Obtenemos el mejor estimador\n",
    "final_model = randomized_search.best_estimator_\n",
    "\n",
    "# Mostramos los mejores parámetros\n",
    "randomized_search.best_params_"
   ]
  },
  {
   "cell_type": "code",
   "execution_count": 91,
   "id": "eb01ea25",
   "metadata": {},
   "outputs": [
    {
     "data": {
      "text/html": [
       "<style>#sk-container-id-4 {color: black;}#sk-container-id-4 pre{padding: 0;}#sk-container-id-4 div.sk-toggleable {background-color: white;}#sk-container-id-4 label.sk-toggleable__label {cursor: pointer;display: block;width: 100%;margin-bottom: 0;padding: 0.3em;box-sizing: border-box;text-align: center;}#sk-container-id-4 label.sk-toggleable__label-arrow:before {content: \"▸\";float: left;margin-right: 0.25em;color: #696969;}#sk-container-id-4 label.sk-toggleable__label-arrow:hover:before {color: black;}#sk-container-id-4 div.sk-estimator:hover label.sk-toggleable__label-arrow:before {color: black;}#sk-container-id-4 div.sk-toggleable__content {max-height: 0;max-width: 0;overflow: hidden;text-align: left;background-color: #f0f8ff;}#sk-container-id-4 div.sk-toggleable__content pre {margin: 0.2em;color: black;border-radius: 0.25em;background-color: #f0f8ff;}#sk-container-id-4 input.sk-toggleable__control:checked~div.sk-toggleable__content {max-height: 200px;max-width: 100%;overflow: auto;}#sk-container-id-4 input.sk-toggleable__control:checked~label.sk-toggleable__label-arrow:before {content: \"▾\";}#sk-container-id-4 div.sk-estimator input.sk-toggleable__control:checked~label.sk-toggleable__label {background-color: #d4ebff;}#sk-container-id-4 div.sk-label input.sk-toggleable__control:checked~label.sk-toggleable__label {background-color: #d4ebff;}#sk-container-id-4 input.sk-hidden--visually {border: 0;clip: rect(1px 1px 1px 1px);clip: rect(1px, 1px, 1px, 1px);height: 1px;margin: -1px;overflow: hidden;padding: 0;position: absolute;width: 1px;}#sk-container-id-4 div.sk-estimator {font-family: monospace;background-color: #f0f8ff;border: 1px dotted black;border-radius: 0.25em;box-sizing: border-box;margin-bottom: 0.5em;}#sk-container-id-4 div.sk-estimator:hover {background-color: #d4ebff;}#sk-container-id-4 div.sk-parallel-item::after {content: \"\";width: 100%;border-bottom: 1px solid gray;flex-grow: 1;}#sk-container-id-4 div.sk-label:hover label.sk-toggleable__label {background-color: #d4ebff;}#sk-container-id-4 div.sk-serial::before {content: \"\";position: absolute;border-left: 1px solid gray;box-sizing: border-box;top: 0;bottom: 0;left: 50%;z-index: 0;}#sk-container-id-4 div.sk-serial {display: flex;flex-direction: column;align-items: center;background-color: white;padding-right: 0.2em;padding-left: 0.2em;position: relative;}#sk-container-id-4 div.sk-item {position: relative;z-index: 1;}#sk-container-id-4 div.sk-parallel {display: flex;align-items: stretch;justify-content: center;background-color: white;position: relative;}#sk-container-id-4 div.sk-item::before, #sk-container-id-4 div.sk-parallel-item::before {content: \"\";position: absolute;border-left: 1px solid gray;box-sizing: border-box;top: 0;bottom: 0;left: 50%;z-index: -1;}#sk-container-id-4 div.sk-parallel-item {display: flex;flex-direction: column;z-index: 1;position: relative;background-color: white;}#sk-container-id-4 div.sk-parallel-item:first-child::after {align-self: flex-end;width: 50%;}#sk-container-id-4 div.sk-parallel-item:last-child::after {align-self: flex-start;width: 50%;}#sk-container-id-4 div.sk-parallel-item:only-child::after {width: 0;}#sk-container-id-4 div.sk-dashed-wrapped {border: 1px dashed gray;margin: 0 0.4em 0.5em 0.4em;box-sizing: border-box;padding-bottom: 0.4em;background-color: white;}#sk-container-id-4 div.sk-label label {font-family: monospace;font-weight: bold;display: inline-block;line-height: 1.2em;}#sk-container-id-4 div.sk-label-container {text-align: center;}#sk-container-id-4 div.sk-container {/* jupyter's `normalize.less` sets `[hidden] { display: none; }` but bootstrap.min.css set `[hidden] { display: none !important; }` so we also need the `!important` here to be able to override the default hidden behavior on the sphinx rendered scikit-learn.org. See: https://github.com/scikit-learn/scikit-learn/issues/21755 */display: inline-block !important;position: relative;}#sk-container-id-4 div.sk-text-repr-fallback {display: none;}</style><div id=\"sk-container-id-4\" class=\"sk-top-container\"><div class=\"sk-text-repr-fallback\"><pre>Pipeline(steps=[(&#x27;pca&#x27;, PCA()),\n",
       "                (&#x27;rf_clf&#x27;,\n",
       "                 RandomForestClassifier(bootstrap=False, max_features=4))])</pre><b>In a Jupyter environment, please rerun this cell to show the HTML representation or trust the notebook. <br />On GitHub, the HTML representation is unable to render, please try loading this page with nbviewer.org.</b></div><div class=\"sk-container\" hidden><div class=\"sk-item sk-dashed-wrapped\"><div class=\"sk-label-container\"><div class=\"sk-label sk-toggleable\"><input class=\"sk-toggleable__control sk-hidden--visually\" id=\"sk-estimator-id-12\" type=\"checkbox\" ><label for=\"sk-estimator-id-12\" class=\"sk-toggleable__label sk-toggleable__label-arrow\">Pipeline</label><div class=\"sk-toggleable__content\"><pre>Pipeline(steps=[(&#x27;pca&#x27;, PCA()),\n",
       "                (&#x27;rf_clf&#x27;,\n",
       "                 RandomForestClassifier(bootstrap=False, max_features=4))])</pre></div></div></div><div class=\"sk-serial\"><div class=\"sk-item\"><div class=\"sk-estimator sk-toggleable\"><input class=\"sk-toggleable__control sk-hidden--visually\" id=\"sk-estimator-id-13\" type=\"checkbox\" ><label for=\"sk-estimator-id-13\" class=\"sk-toggleable__label sk-toggleable__label-arrow\">PCA</label><div class=\"sk-toggleable__content\"><pre>PCA()</pre></div></div></div><div class=\"sk-item\"><div class=\"sk-estimator sk-toggleable\"><input class=\"sk-toggleable__control sk-hidden--visually\" id=\"sk-estimator-id-14\" type=\"checkbox\" ><label for=\"sk-estimator-id-14\" class=\"sk-toggleable__label sk-toggleable__label-arrow\">RandomForestClassifier</label><div class=\"sk-toggleable__content\"><pre>RandomForestClassifier(bootstrap=False, max_features=4)</pre></div></div></div></div></div></div></div>"
      ],
      "text/plain": [
       "Pipeline(steps=[('pca', PCA()),\n",
       "                ('rf_clf',\n",
       "                 RandomForestClassifier(bootstrap=False, max_features=4))])"
      ]
     },
     "execution_count": 91,
     "metadata": {},
     "output_type": "execute_result"
    }
   ],
   "source": [
    "# Entrenamos el modelo\n",
    "final_model.fit(X_train, y_train)"
   ]
  },
  {
   "cell_type": "code",
   "execution_count": 92,
   "id": "7af23a0b",
   "metadata": {},
   "outputs": [
    {
     "data": {
      "text/plain": [
       "['models/rfc_clf.pkl']"
      ]
     },
     "execution_count": 92,
     "metadata": {},
     "output_type": "execute_result"
    }
   ],
   "source": [
    "joblib.dump(final_model, 'models/rfc_clf.pkl')"
   ]
  },
  {
   "cell_type": "code",
   "execution_count": 93,
   "id": "c6628f7a",
   "metadata": {},
   "outputs": [
    {
     "data": {
      "text/plain": [
       "array([[8, 0, 0, 0, 0, 0, 0],\n",
       "       [0, 4, 0, 0, 0, 0, 0],\n",
       "       [0, 0, 1, 0, 0, 0, 0],\n",
       "       [0, 0, 0, 3, 0, 0, 0],\n",
       "       [0, 0, 0, 0, 1, 0, 0],\n",
       "       [0, 0, 0, 0, 0, 2, 0],\n",
       "       [0, 0, 0, 0, 0, 0, 2]], dtype=int64)"
      ]
     },
     "execution_count": 93,
     "metadata": {},
     "output_type": "execute_result"
    }
   ],
   "source": [
    "# Predecimos el target de test con cross validation\n",
    "y_test_pred = final_model.predict(X_test)\n",
    "\n",
    "# Calculamos la matriz de confusión\n",
    "confusion_matrix(y_test, y_test_pred)"
   ]
  },
  {
   "cell_type": "code",
   "execution_count": 94,
   "id": "e2c58de5",
   "metadata": {},
   "outputs": [
    {
     "data": {
      "image/png": "[encoded data removed]",
      "text/plain": [
       "<Figure size 480x480 with 1 Axes>"
      ]
     },
     "metadata": {},
     "output_type": "display_data"
    }
   ],
   "source": [
    "# Mostramos la matriz de confusión de forma gráfica\n",
    "plt.matshow(confusion_matrix(y_test, y_test_pred), cmap=plt.cm.gray)\n",
    "plt.show()"
   ]
  },
  {
   "cell_type": "code",
   "execution_count": 95,
   "id": "10edb76d",
   "metadata": {},
   "outputs": [
    {
     "name": "stdout",
     "output_type": "stream",
     "text": [
      "Accuracy:  1.0\n",
      "Precision:  1.0\n",
      "Recall:  1.0\n",
      "F1-Score:  1.0\n",
      "ROC AUC Score:  1.0\n"
     ]
    }
   ],
   "source": [
    "# Obtenemos la predicción de probabilidades\n",
    "y_pred = final_model.predict_proba(X_test)\n",
    "\n",
    "# Almacenamos los resultados de precision, recall, accuracy, f1-score y roc auc score\n",
    "final_results = [\n",
    "    accuracy_score(y_test, y_test_pred),\n",
    "    precision_score(y_test, y_test_pred, average='weighted'),\n",
    "    recall_score(y_test, y_test_pred, average='weighted'),\n",
    "    f1_score(y_test, y_test_pred, average='weighted'),\n",
    "    roc_auc_score(y_test, y_pred, multi_class='ovr')\n",
    "]\n",
    "\n",
    "# Mostramos el precision, recall, accuracy, f1-score y roc auc score\n",
    "print(\"Accuracy: \", final_results[0])\n",
    "print(\"Precision: \", final_results[1])\n",
    "print(\"Recall: \", final_results[2])\n",
    "print(\"F1-Score: \", final_results[3])\n",
    "print(\"ROC AUC Score: \", final_results[4])"
   ]
  },
  {
   "cell_type": "code",
   "execution_count": 96,
   "id": "859dff4d",
   "metadata": {},
   "outputs": [
    {
     "data": {
      "text/plain": [
       "['models/rfc_clf_results.pkl']"
      ]
     },
     "execution_count": 96,
     "metadata": {},
     "output_type": "execute_result"
    }
   ],
   "source": [
    "joblib.dump(final_results, 'models/rfc_clf_results.pkl')"
   ]
  },
  {
   "cell_type": "markdown",
   "id": "836f26fb",
   "metadata": {},
   "source": [
    "# ExtraTressClassifier\n"
   ]
  },
  {
   "cell_type": "code",
   "execution_count": 97,
   "id": "7b004f5f",
   "metadata": {},
   "outputs": [
    {
     "name": "stdout",
     "output_type": "stream",
     "text": [
      "Fitting 5 folds for each of 10 candidates, totalling 50 fits\n"
     ]
    },
    {
     "name": "stderr",
     "output_type": "stream",
     "text": [
      "C:\\Users\\Miguel\\anaconda3\\Lib\\site-packages\\sklearn\\model_selection\\_split.py:725: UserWarning: The least populated class in y has only 3 members, which is less than n_splits=5.\n",
      "  warnings.warn(\n"
     ]
    },
    {
     "data": {
      "text/html": [
       "<style>#sk-container-id-5 {color: black;}#sk-container-id-5 pre{padding: 0;}#sk-container-id-5 div.sk-toggleable {background-color: white;}#sk-container-id-5 label.sk-toggleable__label {cursor: pointer;display: block;width: 100%;margin-bottom: 0;padding: 0.3em;box-sizing: border-box;text-align: center;}#sk-container-id-5 label.sk-toggleable__label-arrow:before {content: \"▸\";float: left;margin-right: 0.25em;color: #696969;}#sk-container-id-5 label.sk-toggleable__label-arrow:hover:before {color: black;}#sk-container-id-5 div.sk-estimator:hover label.sk-toggleable__label-arrow:before {color: black;}#sk-container-id-5 div.sk-toggleable__content {max-height: 0;max-width: 0;overflow: hidden;text-align: left;background-color: #f0f8ff;}#sk-container-id-5 div.sk-toggleable__content pre {margin: 0.2em;color: black;border-radius: 0.25em;background-color: #f0f8ff;}#sk-container-id-5 input.sk-toggleable__control:checked~div.sk-toggleable__content {max-height: 200px;max-width: 100%;overflow: auto;}#sk-container-id-5 input.sk-toggleable__control:checked~label.sk-toggleable__label-arrow:before {content: \"▾\";}#sk-container-id-5 div.sk-estimator input.sk-toggleable__control:checked~label.sk-toggleable__label {background-color: #d4ebff;}#sk-container-id-5 div.sk-label input.sk-toggleable__control:checked~label.sk-toggleable__label {background-color: #d4ebff;}#sk-container-id-5 input.sk-hidden--visually {border: 0;clip: rect(1px 1px 1px 1px);clip: rect(1px, 1px, 1px, 1px);height: 1px;margin: -1px;overflow: hidden;padding: 0;position: absolute;width: 1px;}#sk-container-id-5 div.sk-estimator {font-family: monospace;background-color: #f0f8ff;border: 1px dotted black;border-radius: 0.25em;box-sizing: border-box;margin-bottom: 0.5em;}#sk-container-id-5 div.sk-estimator:hover {background-color: #d4ebff;}#sk-container-id-5 div.sk-parallel-item::after {content: \"\";width: 100%;border-bottom: 1px solid gray;flex-grow: 1;}#sk-container-id-5 div.sk-label:hover label.sk-toggleable__label {background-color: #d4ebff;}#sk-container-id-5 div.sk-serial::before {content: \"\";position: absolute;border-left: 1px solid gray;box-sizing: border-box;top: 0;bottom: 0;left: 50%;z-index: 0;}#sk-container-id-5 div.sk-serial {display: flex;flex-direction: column;align-items: center;background-color: white;padding-right: 0.2em;padding-left: 0.2em;position: relative;}#sk-container-id-5 div.sk-item {position: relative;z-index: 1;}#sk-container-id-5 div.sk-parallel {display: flex;align-items: stretch;justify-content: center;background-color: white;position: relative;}#sk-container-id-5 div.sk-item::before, #sk-container-id-5 div.sk-parallel-item::before {content: \"\";position: absolute;border-left: 1px solid gray;box-sizing: border-box;top: 0;bottom: 0;left: 50%;z-index: -1;}#sk-container-id-5 div.sk-parallel-item {display: flex;flex-direction: column;z-index: 1;position: relative;background-color: white;}#sk-container-id-5 div.sk-parallel-item:first-child::after {align-self: flex-end;width: 50%;}#sk-container-id-5 div.sk-parallel-item:last-child::after {align-self: flex-start;width: 50%;}#sk-container-id-5 div.sk-parallel-item:only-child::after {width: 0;}#sk-container-id-5 div.sk-dashed-wrapped {border: 1px dashed gray;margin: 0 0.4em 0.5em 0.4em;box-sizing: border-box;padding-bottom: 0.4em;background-color: white;}#sk-container-id-5 div.sk-label label {font-family: monospace;font-weight: bold;display: inline-block;line-height: 1.2em;}#sk-container-id-5 div.sk-label-container {text-align: center;}#sk-container-id-5 div.sk-container {/* jupyter's `normalize.less` sets `[hidden] { display: none; }` but bootstrap.min.css set `[hidden] { display: none !important; }` so we also need the `!important` here to be able to override the default hidden behavior on the sphinx rendered scikit-learn.org. See: https://github.com/scikit-learn/scikit-learn/issues/21755 */display: inline-block !important;position: relative;}#sk-container-id-5 div.sk-text-repr-fallback {display: none;}</style><div id=\"sk-container-id-5\" class=\"sk-top-container\"><div class=\"sk-text-repr-fallback\"><pre>RandomizedSearchCV(cv=5,\n",
       "                   estimator=Pipeline(steps=[(&#x27;pca&#x27;, PCA()),\n",
       "                                             (&#x27;etc_clf&#x27;,\n",
       "                                              ExtraTreesClassifier())]),\n",
       "                   n_jobs=-1,\n",
       "                   param_distributions=[{&#x27;etc_clf__max_depth&#x27;: [2, 4, 6],\n",
       "                                         &#x27;etc_clf__max_features&#x27;: [2, 4, 6, 8],\n",
       "                                         &#x27;etc_clf__min_samples_leaf&#x27;: [1, 2, 4],\n",
       "                                         &#x27;etc_clf__n_estimators&#x27;: [10, 100, 200,\n",
       "                                                                   500]},\n",
       "                                        {&#x27;etc_clf__bootstrap&#x27;: [False],\n",
       "                                         &#x27;etc_clf__max_depth&#x27;: [2, 4, 6],\n",
       "                                         &#x27;etc_clf__max_features&#x27;: [2, 3, 4],\n",
       "                                         &#x27;etc_clf__min_samples_leaf&#x27;: [1, 2, 4],\n",
       "                                         &#x27;etc_clf__n_estimators&#x27;: [10, 100, 200,\n",
       "                                                                   500]}],\n",
       "                   random_state=42, scoring=&#x27;accuracy&#x27;, verbose=True)</pre><b>In a Jupyter environment, please rerun this cell to show the HTML representation or trust the notebook. <br />On GitHub, the HTML representation is unable to render, please try loading this page with nbviewer.org.</b></div><div class=\"sk-container\" hidden><div class=\"sk-item sk-dashed-wrapped\"><div class=\"sk-label-container\"><div class=\"sk-label sk-toggleable\"><input class=\"sk-toggleable__control sk-hidden--visually\" id=\"sk-estimator-id-15\" type=\"checkbox\" ><label for=\"sk-estimator-id-15\" class=\"sk-toggleable__label sk-toggleable__label-arrow\">RandomizedSearchCV</label><div class=\"sk-toggleable__content\"><pre>RandomizedSearchCV(cv=5,\n",
       "                   estimator=Pipeline(steps=[(&#x27;pca&#x27;, PCA()),\n",
       "                                             (&#x27;etc_clf&#x27;,\n",
       "                                              ExtraTreesClassifier())]),\n",
       "                   n_jobs=-1,\n",
       "                   param_distributions=[{&#x27;etc_clf__max_depth&#x27;: [2, 4, 6],\n",
       "                                         &#x27;etc_clf__max_features&#x27;: [2, 4, 6, 8],\n",
       "                                         &#x27;etc_clf__min_samples_leaf&#x27;: [1, 2, 4],\n",
       "                                         &#x27;etc_clf__n_estimators&#x27;: [10, 100, 200,\n",
       "                                                                   500]},\n",
       "                                        {&#x27;etc_clf__bootstrap&#x27;: [False],\n",
       "                                         &#x27;etc_clf__max_depth&#x27;: [2, 4, 6],\n",
       "                                         &#x27;etc_clf__max_features&#x27;: [2, 3, 4],\n",
       "                                         &#x27;etc_clf__min_samples_leaf&#x27;: [1, 2, 4],\n",
       "                                         &#x27;etc_clf__n_estimators&#x27;: [10, 100, 200,\n",
       "                                                                   500]}],\n",
       "                   random_state=42, scoring=&#x27;accuracy&#x27;, verbose=True)</pre></div></div></div><div class=\"sk-parallel\"><div class=\"sk-parallel-item\"><div class=\"sk-item\"><div class=\"sk-label-container\"><div class=\"sk-label sk-toggleable\"><input class=\"sk-toggleable__control sk-hidden--visually\" id=\"sk-estimator-id-16\" type=\"checkbox\" ><label for=\"sk-estimator-id-16\" class=\"sk-toggleable__label sk-toggleable__label-arrow\">estimator: Pipeline</label><div class=\"sk-toggleable__content\"><pre>Pipeline(steps=[(&#x27;pca&#x27;, PCA()), (&#x27;etc_clf&#x27;, ExtraTreesClassifier())])</pre></div></div></div><div class=\"sk-serial\"><div class=\"sk-item\"><div class=\"sk-serial\"><div class=\"sk-item\"><div class=\"sk-estimator sk-toggleable\"><input class=\"sk-toggleable__control sk-hidden--visually\" id=\"sk-estimator-id-17\" type=\"checkbox\" ><label for=\"sk-estimator-id-17\" class=\"sk-toggleable__label sk-toggleable__label-arrow\">PCA</label><div class=\"sk-toggleable__content\"><pre>PCA()</pre></div></div></div><div class=\"sk-item\"><div class=\"sk-estimator sk-toggleable\"><input class=\"sk-toggleable__control sk-hidden--visually\" id=\"sk-estimator-id-18\" type=\"checkbox\" ><label for=\"sk-estimator-id-18\" class=\"sk-toggleable__label sk-toggleable__label-arrow\">ExtraTreesClassifier</label><div class=\"sk-toggleable__content\"><pre>ExtraTreesClassifier()</pre></div></div></div></div></div></div></div></div></div></div></div></div>"
      ],
      "text/plain": [
       "RandomizedSearchCV(cv=5,\n",
       "                   estimator=Pipeline(steps=[('pca', PCA()),\n",
       "                                             ('etc_clf',\n",
       "                                              ExtraTreesClassifier())]),\n",
       "                   n_jobs=-1,\n",
       "                   param_distributions=[{'etc_clf__max_depth': [2, 4, 6],\n",
       "                                         'etc_clf__max_features': [2, 4, 6, 8],\n",
       "                                         'etc_clf__min_samples_leaf': [1, 2, 4],\n",
       "                                         'etc_clf__n_estimators': [10, 100, 200,\n",
       "                                                                   500]},\n",
       "                                        {'etc_clf__bootstrap': [False],\n",
       "                                         'etc_clf__max_depth': [2, 4, 6],\n",
       "                                         'etc_clf__max_features': [2, 3, 4],\n",
       "                                         'etc_clf__min_samples_leaf': [1, 2, 4],\n",
       "                                         'etc_clf__n_estimators': [10, 100, 200,\n",
       "                                                                   500]}],\n",
       "                   random_state=42, scoring='accuracy', verbose=True)"
      ]
     },
     "execution_count": 97,
     "metadata": {},
     "output_type": "execute_result"
    }
   ],
   "source": [
    "from sklearn.ensemble import ExtraTreesClassifier\n",
    "\n",
    "# Creamos el clasificador ExtraTreesClassifier\n",
    "etc_clf = ExtraTreesClassifier()\n",
    "\n",
    "# Creamos el pipeline\n",
    "etc_clf_pipeline = Pipeline([\n",
    "    (\"pca\", PCA()),\n",
    "    (\"etc_clf\", etc_clf)\n",
    "])\n",
    "\n",
    "# Grid de parámetros para el clasificador Extra Trees Classifier\n",
    "param_grid = [\n",
    "    {'etc_clf__n_estimators': [10, 100, 200, 500], 'etc_clf__max_features': [2, 4, 6, 8], 'etc_clf__max_depth': [2, 4, 6], 'etc_clf__min_samples_leaf': [1, 2, 4]},\n",
    "    {'etc_clf__bootstrap': [False], 'etc_clf__n_estimators': [10, 100, 200, 500], 'etc_clf__max_features': [2, 3, 4], 'etc_clf__max_depth': [2, 4, 6], 'etc_clf__min_samples_leaf': [1, 2, 4]}\n",
    "]\n",
    "\n",
    "# Creamos el RandomizedSearchCV\n",
    "randomized_search = RandomizedSearchCV(etc_clf_pipeline, param_grid, cv=5, scoring='accuracy', n_jobs=-1, verbose=True, random_state=42)\n",
    "\n",
    "# Entrenamos el modelo\n",
    "randomized_search.fit(X_train, y_train)"
   ]
  },
  {
   "cell_type": "code",
   "execution_count": 98,
   "id": "f2daacab",
   "metadata": {},
   "outputs": [
    {
     "data": {
      "text/plain": [
       "{'etc_clf__n_estimators': 500,\n",
       " 'etc_clf__min_samples_leaf': 1,\n",
       " 'etc_clf__max_features': 4,\n",
       " 'etc_clf__max_depth': 6}"
      ]
     },
     "execution_count": 98,
     "metadata": {},
     "output_type": "execute_result"
    }
   ],
   "source": [
    "# Obtenemos el mejor estimador\n",
    "final_model = randomized_search.best_estimator_\n",
    "\n",
    "# Mostramos los mejores parámetros\n",
    "randomized_search.best_params_"
   ]
  },
  {
   "cell_type": "code",
   "execution_count": 99,
   "id": "0389bee7",
   "metadata": {},
   "outputs": [
    {
     "data": {
      "text/html": [
       "<style>#sk-container-id-6 {color: black;}#sk-container-id-6 pre{padding: 0;}#sk-container-id-6 div.sk-toggleable {background-color: white;}#sk-container-id-6 label.sk-toggleable__label {cursor: pointer;display: block;width: 100%;margin-bottom: 0;padding: 0.3em;box-sizing: border-box;text-align: center;}#sk-container-id-6 label.sk-toggleable__label-arrow:before {content: \"▸\";float: left;margin-right: 0.25em;color: #696969;}#sk-container-id-6 label.sk-toggleable__label-arrow:hover:before {color: black;}#sk-container-id-6 div.sk-estimator:hover label.sk-toggleable__label-arrow:before {color: black;}#sk-container-id-6 div.sk-toggleable__content {max-height: 0;max-width: 0;overflow: hidden;text-align: left;background-color: #f0f8ff;}#sk-container-id-6 div.sk-toggleable__content pre {margin: 0.2em;color: black;border-radius: 0.25em;background-color: #f0f8ff;}#sk-container-id-6 input.sk-toggleable__control:checked~div.sk-toggleable__content {max-height: 200px;max-width: 100%;overflow: auto;}#sk-container-id-6 input.sk-toggleable__control:checked~label.sk-toggleable__label-arrow:before {content: \"▾\";}#sk-container-id-6 div.sk-estimator input.sk-toggleable__control:checked~label.sk-toggleable__label {background-color: #d4ebff;}#sk-container-id-6 div.sk-label input.sk-toggleable__control:checked~label.sk-toggleable__label {background-color: #d4ebff;}#sk-container-id-6 input.sk-hidden--visually {border: 0;clip: rect(1px 1px 1px 1px);clip: rect(1px, 1px, 1px, 1px);height: 1px;margin: -1px;overflow: hidden;padding: 0;position: absolute;width: 1px;}#sk-container-id-6 div.sk-estimator {font-family: monospace;background-color: #f0f8ff;border: 1px dotted black;border-radius: 0.25em;box-sizing: border-box;margin-bottom: 0.5em;}#sk-container-id-6 div.sk-estimator:hover {background-color: #d4ebff;}#sk-container-id-6 div.sk-parallel-item::after {content: \"\";width: 100%;border-bottom: 1px solid gray;flex-grow: 1;}#sk-container-id-6 div.sk-label:hover label.sk-toggleable__label {background-color: #d4ebff;}#sk-container-id-6 div.sk-serial::before {content: \"\";position: absolute;border-left: 1px solid gray;box-sizing: border-box;top: 0;bottom: 0;left: 50%;z-index: 0;}#sk-container-id-6 div.sk-serial {display: flex;flex-direction: column;align-items: center;background-color: white;padding-right: 0.2em;padding-left: 0.2em;position: relative;}#sk-container-id-6 div.sk-item {position: relative;z-index: 1;}#sk-container-id-6 div.sk-parallel {display: flex;align-items: stretch;justify-content: center;background-color: white;position: relative;}#sk-container-id-6 div.sk-item::before, #sk-container-id-6 div.sk-parallel-item::before {content: \"\";position: absolute;border-left: 1px solid gray;box-sizing: border-box;top: 0;bottom: 0;left: 50%;z-index: -1;}#sk-container-id-6 div.sk-parallel-item {display: flex;flex-direction: column;z-index: 1;position: relative;background-color: white;}#sk-container-id-6 div.sk-parallel-item:first-child::after {align-self: flex-end;width: 50%;}#sk-container-id-6 div.sk-parallel-item:last-child::after {align-self: flex-start;width: 50%;}#sk-container-id-6 div.sk-parallel-item:only-child::after {width: 0;}#sk-container-id-6 div.sk-dashed-wrapped {border: 1px dashed gray;margin: 0 0.4em 0.5em 0.4em;box-sizing: border-box;padding-bottom: 0.4em;background-color: white;}#sk-container-id-6 div.sk-label label {font-family: monospace;font-weight: bold;display: inline-block;line-height: 1.2em;}#sk-container-id-6 div.sk-label-container {text-align: center;}#sk-container-id-6 div.sk-container {/* jupyter's `normalize.less` sets `[hidden] { display: none; }` but bootstrap.min.css set `[hidden] { display: none !important; }` so we also need the `!important` here to be able to override the default hidden behavior on the sphinx rendered scikit-learn.org. See: https://github.com/scikit-learn/scikit-learn/issues/21755 */display: inline-block !important;position: relative;}#sk-container-id-6 div.sk-text-repr-fallback {display: none;}</style><div id=\"sk-container-id-6\" class=\"sk-top-container\"><div class=\"sk-text-repr-fallback\"><pre>Pipeline(steps=[(&#x27;pca&#x27;, PCA()),\n",
       "                (&#x27;etc_clf&#x27;,\n",
       "                 ExtraTreesClassifier(max_depth=6, max_features=4,\n",
       "                                      n_estimators=500))])</pre><b>In a Jupyter environment, please rerun this cell to show the HTML representation or trust the notebook. <br />On GitHub, the HTML representation is unable to render, please try loading this page with nbviewer.org.</b></div><div class=\"sk-container\" hidden><div class=\"sk-item sk-dashed-wrapped\"><div class=\"sk-label-container\"><div class=\"sk-label sk-toggleable\"><input class=\"sk-toggleable__control sk-hidden--visually\" id=\"sk-estimator-id-19\" type=\"checkbox\" ><label for=\"sk-estimator-id-19\" class=\"sk-toggleable__label sk-toggleable__label-arrow\">Pipeline</label><div class=\"sk-toggleable__content\"><pre>Pipeline(steps=[(&#x27;pca&#x27;, PCA()),\n",
       "                (&#x27;etc_clf&#x27;,\n",
       "                 ExtraTreesClassifier(max_depth=6, max_features=4,\n",
       "                                      n_estimators=500))])</pre></div></div></div><div class=\"sk-serial\"><div class=\"sk-item\"><div class=\"sk-estimator sk-toggleable\"><input class=\"sk-toggleable__control sk-hidden--visually\" id=\"sk-estimator-id-20\" type=\"checkbox\" ><label for=\"sk-estimator-id-20\" class=\"sk-toggleable__label sk-toggleable__label-arrow\">PCA</label><div class=\"sk-toggleable__content\"><pre>PCA()</pre></div></div></div><div class=\"sk-item\"><div class=\"sk-estimator sk-toggleable\"><input class=\"sk-toggleable__control sk-hidden--visually\" id=\"sk-estimator-id-21\" type=\"checkbox\" ><label for=\"sk-estimator-id-21\" class=\"sk-toggleable__label sk-toggleable__label-arrow\">ExtraTreesClassifier</label><div class=\"sk-toggleable__content\"><pre>ExtraTreesClassifier(max_depth=6, max_features=4, n_estimators=500)</pre></div></div></div></div></div></div></div>"
      ],
      "text/plain": [
       "Pipeline(steps=[('pca', PCA()),\n",
       "                ('etc_clf',\n",
       "                 ExtraTreesClassifier(max_depth=6, max_features=4,\n",
       "                                      n_estimators=500))])"
      ]
     },
     "execution_count": 99,
     "metadata": {},
     "output_type": "execute_result"
    }
   ],
   "source": [
    "# Entrenamos el modelo\n",
    "final_model.fit(X_train, y_train)"
   ]
  },
  {
   "cell_type": "code",
   "execution_count": 100,
   "id": "c4e8ddbc",
   "metadata": {},
   "outputs": [
    {
     "data": {
      "text/plain": [
       "['models/etc_clf.pkl']"
      ]
     },
     "execution_count": 100,
     "metadata": {},
     "output_type": "execute_result"
    }
   ],
   "source": [
    "joblib.dump(final_model, 'models/etc_clf.pkl')"
   ]
  },
  {
   "cell_type": "code",
   "execution_count": 101,
   "id": "f7d4ed1a",
   "metadata": {},
   "outputs": [
    {
     "data": {
      "text/plain": [
       "array([[8, 0, 0, 0, 0, 0, 0],\n",
       "       [0, 4, 0, 0, 0, 0, 0],\n",
       "       [0, 0, 1, 0, 0, 0, 0],\n",
       "       [0, 0, 0, 3, 0, 0, 0],\n",
       "       [0, 0, 0, 0, 1, 0, 0],\n",
       "       [0, 0, 0, 0, 0, 2, 0],\n",
       "       [0, 0, 0, 0, 0, 0, 2]], dtype=int64)"
      ]
     },
     "execution_count": 101,
     "metadata": {},
     "output_type": "execute_result"
    }
   ],
   "source": [
    "# Predecimos el target de test con cross validation\n",
    "y_test_pred = final_model.predict(X_test)\n",
    "\n",
    "# Calculamos la matriz de confusión\n",
    "confusion_matrix(y_test, y_test_pred)"
   ]
  },
  {
   "cell_type": "code",
   "execution_count": 102,
   "id": "f51c8a2f",
   "metadata": {},
   "outputs": [
    {
     "data": {
      "image/png": "[encoded data removed]",
      "text/plain": [
       "<Figure size 480x480 with 1 Axes>"
      ]
     },
     "metadata": {},
     "output_type": "display_data"
    }
   ],
   "source": [
    "# Mostramos la matriz de confusión de forma gráfica\n",
    "plt.matshow(confusion_matrix(y_test, y_test_pred), cmap=plt.cm.gray)\n",
    "plt.show()"
   ]
  },
  {
   "cell_type": "code",
   "execution_count": 103,
   "id": "74398177",
   "metadata": {},
   "outputs": [
    {
     "name": "stdout",
     "output_type": "stream",
     "text": [
      "Accuracy:  1.0\n",
      "Precision:  1.0\n",
      "Recall:  1.0\n",
      "F1-Score:  1.0\n",
      "ROC AUC Score:  1.0\n"
     ]
    }
   ],
   "source": [
    "# Obtenemos la predicción de probabilidades\n",
    "y_pred = final_model.predict_proba(X_test)\n",
    "\n",
    "# Almacenamos los resultados de precision, recall, accuracy, f1-score y roc auc score\n",
    "final_results = [\n",
    "    accuracy_score(y_test, y_test_pred),\n",
    "    precision_score(y_test, y_test_pred, average='weighted'),\n",
    "    recall_score(y_test, y_test_pred, average='weighted'),\n",
    "    f1_score(y_test, y_test_pred, average='weighted'),\n",
    "    roc_auc_score(y_test, y_pred, multi_class='ovr')\n",
    "]\n",
    "\n",
    "# Mostramos el precision, recall, accuracy, f1-score y roc auc score\n",
    "print(\"Accuracy: \", final_results[0])\n",
    "print(\"Precision: \", final_results[1])\n",
    "print(\"Recall: \", final_results[2])\n",
    "print(\"F1-Score: \", final_results[3])\n",
    "print(\"ROC AUC Score: \", final_results[4])"
   ]
  },
  {
   "cell_type": "code",
   "execution_count": 104,
   "id": "9af5d977",
   "metadata": {},
   "outputs": [
    {
     "data": {
      "text/plain": [
       "['models/etc_clf_results.pkl']"
      ]
     },
     "execution_count": 104,
     "metadata": {},
     "output_type": "execute_result"
    }
   ],
   "source": [
    "joblib.dump(final_results, 'models/etc_clf_results.pkl')\n"
   ]
  },
  {
   "cell_type": "code",
   "execution_count": null,
   "id": "4e113e93",
   "metadata": {},
   "outputs": [],
   "source": []
  }
 ],
 "metadata": {
  "kernelspec": {
   "display_name": "Python 3 (ipykernel)",
   "language": "python",
   "name": "python3"
  },
  "language_info": {
   "codemirror_mode": {
    "name": "ipython",
    "version": 3
   },
   "file_extension": ".py",
   "mimetype": "text/x-python",
   "name": "python",
   "nbconvert_exporter": "python",
   "pygments_lexer": "ipython3",
   "version": "3.11.4"
  }
 },
 "nbformat": 4,
 "nbformat_minor": 5
}
